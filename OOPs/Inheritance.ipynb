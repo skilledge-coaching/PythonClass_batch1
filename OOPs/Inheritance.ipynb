{
 "cells": [
  {
   "cell_type": "markdown",
   "metadata": {},
   "source": [
    "## Inheritance"
   ]
  },
  {
   "cell_type": "markdown",
   "metadata": {},
   "source": [
    "parent_class --> Child Class"
   ]
  },
  {
   "cell_type": "markdown",
   "metadata": {},
   "source": [
    "Inheritance is an important aspect of the object-oriented programming. Inheritance provides code reusability to the program because we can use an existing class to create a new class instead of creating it from scratch.\n",
    "\n",
    "In inheritance, the child class acquires the properties and can access all the data members and functions defined in the parent class. A child class can also provide its specific implementation to the functions of the parent class."
   ]
  },
  {
   "cell_type": "markdown",
   "metadata": {},
   "source": [
    "## Single Inheritance"
   ]
  },
  {
   "cell_type": "code",
   "execution_count": 7,
   "metadata": {},
   "outputs": [],
   "source": [
    "class parent:\n",
    "    def fun(self):\n",
    "        a = 10\n",
    "        b = 6\n",
    "        self.a = a\n",
    "        self.b = b\n",
    "\n",
    "class child(parent): #---> important\n",
    "    def fun1(self):\n",
    "        self.fun()   #-->important\n",
    "        c = self.a + self.b\n",
    "        self.c = c\n",
    "        print(f\"Addition {c}\")"
   ]
  },
  {
   "cell_type": "code",
   "execution_count": 8,
   "metadata": {},
   "outputs": [
    {
     "name": "stdout",
     "output_type": "stream",
     "text": [
      "Addition 16\n"
     ]
    }
   ],
   "source": [
    "add = child()\n",
    "add.fun1()"
   ]
  },
  {
   "cell_type": "markdown",
   "metadata": {},
   "source": [
    "## Multilevel Inheritance"
   ]
  },
  {
   "cell_type": "code",
   "execution_count": 11,
   "metadata": {},
   "outputs": [],
   "source": [
    "class parent:\n",
    "    def fun(self):\n",
    "        a = 10\n",
    "        b = 60\n",
    "        self.a = a\n",
    "        self.b = b\n",
    "\n",
    "class child(parent): #---> important\n",
    "    def fun1(self):\n",
    "        self.fun()   #-->important\n",
    "        c = self.a + self.b\n",
    "        self.c = c\n",
    "\n",
    "class child1(child):\n",
    "    def fun2(self):\n",
    "        self.fun1()\n",
    "        print(f\"Addition {self.c}\")"
   ]
  },
  {
   "cell_type": "code",
   "execution_count": 12,
   "metadata": {},
   "outputs": [
    {
     "name": "stdout",
     "output_type": "stream",
     "text": [
      "Addition 70\n"
     ]
    }
   ],
   "source": [
    "add1 = child1()\n",
    "add1.fun2()"
   ]
  },
  {
   "cell_type": "markdown",
   "metadata": {},
   "source": [
    "## Constructor  "
   ]
  },
  {
   "cell_type": "markdown",
   "metadata": {},
   "source": [
    "__init__\n",
    "\n",
    "You don’t have to call the __init__ method explicitly. It is automatically invoked when an object of the class is instantiated."
   ]
  },
  {
   "cell_type": "code",
   "execution_count": 13,
   "metadata": {},
   "outputs": [],
   "source": [
    "class init:\n",
    "    def __init__(self):\n",
    "        a = 5\n",
    "        b = 8\n",
    "        print(a*b)"
   ]
  },
  {
   "cell_type": "code",
   "execution_count": 14,
   "metadata": {},
   "outputs": [
    {
     "name": "stdout",
     "output_type": "stream",
     "text": [
      "40\n"
     ]
    }
   ],
   "source": [
    "a = init()"
   ]
  },
  {
   "cell_type": "code",
   "execution_count": 15,
   "metadata": {},
   "outputs": [],
   "source": [
    "class init1:\n",
    "    def __init__(self, a ,b):\n",
    "        print(a+b)"
   ]
  },
  {
   "cell_type": "code",
   "execution_count": 16,
   "metadata": {},
   "outputs": [
    {
     "name": "stdout",
     "output_type": "stream",
     "text": [
      "101\n"
     ]
    }
   ],
   "source": [
    "b = init1(34, 67)"
   ]
  },
  {
   "cell_type": "markdown",
   "metadata": {},
   "source": [
    "## Hierarchy Inheritance"
   ]
  },
  {
   "cell_type": "code",
   "execution_count": 17,
   "metadata": {},
   "outputs": [],
   "source": [
    "class parent:\n",
    "    def fun(self):\n",
    "        a = 1000\n",
    "        self.a = a\n",
    "\n",
    "\n",
    "class child1(parent):\n",
    "    def fun1(self):\n",
    "        self.fun()\n",
    "        b = 2000\n",
    "        print(self.a + b)\n",
    "\n",
    "class child2(parent):\n",
    "    def fun2(self):\n",
    "        self.fun()\n",
    "        c = 3000\n",
    "        print(self.a*c)"
   ]
  },
  {
   "cell_type": "code",
   "execution_count": null,
   "metadata": {},
   "outputs": [],
   "source": [
    "class parent:\n",
    "    def fun(self):\n",
    "        a = 1000\n",
    "        self.a = a\n",
    "\n",
    "class child2(parent):\n",
    "    def fun2(self):\n",
    "        self.fun()\n",
    "        c = 3000\n",
    "        print(self.a*c)"
   ]
  },
  {
   "cell_type": "code",
   "execution_count": 18,
   "metadata": {},
   "outputs": [
    {
     "name": "stdout",
     "output_type": "stream",
     "text": [
      "3000\n"
     ]
    }
   ],
   "source": [
    "a1 = child1()\n",
    "a1.fun1()"
   ]
  },
  {
   "cell_type": "code",
   "execution_count": 19,
   "metadata": {},
   "outputs": [
    {
     "name": "stdout",
     "output_type": "stream",
     "text": [
      "3000000\n"
     ]
    }
   ],
   "source": [
    "a2 = child2()\n",
    "a2.fun2()"
   ]
  },
  {
   "cell_type": "markdown",
   "metadata": {},
   "source": [
    "## Multiple Inheritance"
   ]
  },
  {
   "cell_type": "code",
   "execution_count": 1,
   "metadata": {},
   "outputs": [
    {
     "name": "stdout",
     "output_type": "stream",
     "text": [
      "Addition: 650\n",
      "Sub: -150\n"
     ]
    }
   ],
   "source": [
    "class p1:\n",
    "    def fun(self):\n",
    "        self.a = 250\n",
    "\n",
    "class p2:\n",
    "    def fun1(self):\n",
    "        self.b = 400\n",
    "\n",
    "class child(p1, p2):\n",
    "    def fun2(self):\n",
    "        self.fun()\n",
    "        self.fun1()\n",
    "        c = self.a+self.b\n",
    "        d = self.a - self.b\n",
    "        print(f\"Addition: {c}\")\n",
    "        print(f\"Sub: {d}\")\n",
    "\n",
    "multiple = child()\n",
    "multiple.fun2()\n"
   ]
  },
  {
   "cell_type": "markdown",
   "metadata": {},
   "source": [
    "## Hybrid Inheritance"
   ]
  },
  {
   "cell_type": "code",
   "execution_count": 2,
   "metadata": {},
   "outputs": [
    {
     "name": "stdout",
     "output_type": "stream",
     "text": [
      "Multiplication: 3576343615\n"
     ]
    }
   ],
   "source": [
    "class parent:\n",
    "    def fun(self):\n",
    "        self.a = 85763\n",
    "\n",
    "\n",
    "class child1(parent):\n",
    "    def fun1(self):\n",
    "        self.fun()\n",
    "        b = 3456\n",
    "        self.addition = self.a + b\n",
    "        # self.addition = addition\n",
    "\n",
    "class child2(parent):\n",
    "    def fun2(self):\n",
    "        self.fun()\n",
    "        c = 45678\n",
    "        self.sub = self.a - c\n",
    "\n",
    "class child3(child1, child2):\n",
    "    def fun3(self):\n",
    "        self.fun1()\n",
    "        self.fun2()\n",
    "        mul = self.addition * self.sub\n",
    "        print(f\"Multiplication: {mul}\")\n",
    "\n",
    "\n",
    "x = child3()\n",
    "x.fun3()\n"
   ]
  }
 ],
 "metadata": {
  "kernelspec": {
   "display_name": "Python 3",
   "language": "python",
   "name": "python3"
  },
  "language_info": {
   "codemirror_mode": {
    "name": "ipython",
    "version": 3
   },
   "file_extension": ".py",
   "mimetype": "text/x-python",
   "name": "python",
   "nbconvert_exporter": "python",
   "pygments_lexer": "ipython3",
   "version": "3.12.4"
  }
 },
 "nbformat": 4,
 "nbformat_minor": 2
}
