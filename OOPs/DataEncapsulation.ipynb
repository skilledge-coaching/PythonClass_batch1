{
 "cells": [
  {
   "cell_type": "markdown",
   "metadata": {},
   "source": [
    "## Data Encapsulation"
   ]
  },
  {
   "cell_type": "code",
   "execution_count": 11,
   "metadata": {},
   "outputs": [],
   "source": [
    "class company:\n",
    "    def __init__(self):\n",
    "        self.__companyname = \"SkillEdge_Coaching\"\n",
    "\n",
    "    def companyname(self):\n",
    "        print(self.__companyname)"
   ]
  },
  {
   "cell_type": "code",
   "execution_count": 13,
   "metadata": {},
   "outputs": [
    {
     "name": "stdout",
     "output_type": "stream",
     "text": [
      "SkillEdge_Coaching\n"
     ]
    },
    {
     "ename": "AttributeError",
     "evalue": "'company' object has no attribute '__companyname'",
     "output_type": "error",
     "traceback": [
      "\u001b[1;31m---------------------------------------------------------------------------\u001b[0m",
      "\u001b[1;31mAttributeError\u001b[0m                            Traceback (most recent call last)",
      "Cell \u001b[1;32mIn[13], line 3\u001b[0m\n\u001b[0;32m      1\u001b[0m c \u001b[38;5;241m=\u001b[39m company()\n\u001b[0;32m      2\u001b[0m c\u001b[38;5;241m.\u001b[39mcompanyname()\n\u001b[1;32m----> 3\u001b[0m \u001b[38;5;28mprint\u001b[39m(\u001b[43mc\u001b[49m\u001b[38;5;241;43m.\u001b[39;49m\u001b[43m__companyname\u001b[49m)\n\u001b[0;32m      4\u001b[0m \u001b[38;5;66;03m# print(c.__companyname)\u001b[39;00m\n",
      "\u001b[1;31mAttributeError\u001b[0m: 'company' object has no attribute '__companyname'"
     ]
    }
   ],
   "source": [
    "c = company()\n",
    "c.companyname()\n",
    "print(c.__companyname)\n",
    "# print(c.__companyname)"
   ]
  },
  {
   "cell_type": "code",
   "execution_count": 17,
   "metadata": {},
   "outputs": [
    {
     "name": "stdout",
     "output_type": "stream",
     "text": [
      "Name: Arun\n",
      "Age: 25\n",
      "address: Chennai\n"
     ]
    },
    {
     "ename": "AttributeError",
     "evalue": "'bank' object has no attribute 'pin'",
     "output_type": "error",
     "traceback": [
      "\u001b[1;31m---------------------------------------------------------------------------\u001b[0m",
      "\u001b[1;31mAttributeError\u001b[0m                            Traceback (most recent call last)",
      "Cell \u001b[1;32mIn[17], line 16\u001b[0m\n\u001b[0;32m     14\u001b[0m bank_details \u001b[38;5;241m=\u001b[39m bank()\n\u001b[0;32m     15\u001b[0m bank_details\u001b[38;5;241m.\u001b[39mdetails()\n\u001b[1;32m---> 16\u001b[0m \u001b[43mbank_details\u001b[49m\u001b[38;5;241;43m.\u001b[39;49m\u001b[43mpin\u001b[49m()\n",
      "\u001b[1;31mAttributeError\u001b[0m: 'bank' object has no attribute 'pin'"
     ]
    }
   ],
   "source": [
    "class bank:\n",
    "    def details(self):\n",
    "        name = \"Arun\"\n",
    "        age = 25\n",
    "        address = \"Chennai\"\n",
    "        print(f\"Name: {name}\")\n",
    "        print(f\"Age: {age}\")\n",
    "        print(f\"address: {address}\")\n",
    "    \n",
    "    def __pin(self):\n",
    "        pinnum = 1234\n",
    "        print(f\"Pin: {pinnum}\")\n",
    "\n",
    "bank_details = bank()\n",
    "bank_details.details()\n",
    "bank_details.pin()"
   ]
  }
 ],
 "metadata": {
  "kernelspec": {
   "display_name": "Python 3",
   "language": "python",
   "name": "python3"
  },
  "language_info": {
   "codemirror_mode": {
    "name": "ipython",
    "version": 3
   },
   "file_extension": ".py",
   "mimetype": "text/x-python",
   "name": "python",
   "nbconvert_exporter": "python",
   "pygments_lexer": "ipython3",
   "version": "3.12.4"
  }
 },
 "nbformat": 4,
 "nbformat_minor": 2
}
