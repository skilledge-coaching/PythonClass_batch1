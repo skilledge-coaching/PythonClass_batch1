{
 "cells": [
  {
   "cell_type": "markdown",
   "metadata": {},
   "source": [
    "## Polymarphism"
   ]
  },
  {
   "cell_type": "code",
   "execution_count": 7,
   "metadata": {},
   "outputs": [
    {
     "name": "stdout",
     "output_type": "stream",
     "text": [
      "19\n"
     ]
    }
   ],
   "source": [
    "##overloading\n",
    "def add(a,c,b=3):\n",
    "    print(a+b+c)\n",
    "\n",
    "add(10,6)"
   ]
  },
  {
   "cell_type": "code",
   "execution_count": 8,
   "metadata": {},
   "outputs": [],
   "source": [
    "class overload:\n",
    "    def add(self, a = None, b = None, c = None): #a=3, b=4, c=6\n",
    "        if a!=None and b!=None and c!=None:\n",
    "            return a + b + c\n",
    "        elif a != None and b!=None: #a = 4, b = 5\n",
    "            return a + b\n",
    "        else: #a = 4\n",
    "            return a"
   ]
  },
  {
   "cell_type": "code",
   "execution_count": 11,
   "metadata": {},
   "outputs": [
    {
     "name": "stdout",
     "output_type": "stream",
     "text": [
      "90\n",
      "56\n",
      "113\n"
     ]
    }
   ],
   "source": [
    "a = overload()\n",
    "print(a.add(34,56))\n",
    "print(a.add(56))\n",
    "print(a.add(34,67,12))"
   ]
  },
  {
   "cell_type": "code",
   "execution_count": 2,
   "metadata": {},
   "outputs": [
    {
     "name": "stdout",
     "output_type": "stream",
     "text": [
      "215\n"
     ]
    }
   ],
   "source": [
    "a = [34,56,78,12,1,34]\n",
    "\n",
    "sum = 0\n",
    "for i in a:\n",
    "    sum = sum + i\n",
    "\n",
    "print(sum)"
   ]
  },
  {
   "cell_type": "code",
   "execution_count": 3,
   "metadata": {},
   "outputs": [
    {
     "name": "stdout",
     "output_type": "stream",
     "text": [
      "1390\n"
     ]
    }
   ],
   "source": [
    "class load:\n",
    "    def multiple_arg(self, *a):\n",
    "        sum = 0\n",
    "        for i in a:\n",
    "            sum = sum +i\n",
    "        print(sum)\n",
    "\n",
    "add = load()\n",
    "add.multiple_arg(34,56,23,12,56,78,90,1,2,4,56,78,900)"
   ]
  },
  {
   "cell_type": "code",
   "execution_count": 16,
   "metadata": {},
   "outputs": [],
   "source": [
    "class override:\n",
    "    def method(self):\n",
    "        print(\"Welcome\")\n",
    "    \n",
    "class override2(override):\n",
    "    def method(self):\n",
    "        super().method()\n",
    "        print(\"to our\")\n",
    "\n",
    "class override3(override2):\n",
    "    def method(self):\n",
    "        super().method()\n",
    "        print(\"Master python course\")"
   ]
  },
  {
   "cell_type": "code",
   "execution_count": 18,
   "metadata": {},
   "outputs": [
    {
     "name": "stdout",
     "output_type": "stream",
     "text": [
      "Welcome\n",
      "to our\n",
      "Master python course\n"
     ]
    }
   ],
   "source": [
    "b = override3()\n",
    "b.method()"
   ]
  }
 ],
 "metadata": {
  "kernelspec": {
   "display_name": "Python 3",
   "language": "python",
   "name": "python3"
  },
  "language_info": {
   "codemirror_mode": {
    "name": "ipython",
    "version": 3
   },
   "file_extension": ".py",
   "mimetype": "text/x-python",
   "name": "python",
   "nbconvert_exporter": "python",
   "pygments_lexer": "ipython3",
   "version": "3.12.4"
  }
 },
 "nbformat": 4,
 "nbformat_minor": 2
}
