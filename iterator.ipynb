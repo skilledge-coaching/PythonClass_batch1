{
 "cells": [
  {
   "cell_type": "markdown",
   "metadata": {},
   "source": [
    "## iterator"
   ]
  },
  {
   "cell_type": "markdown",
   "metadata": {},
   "source": [
    "Iterators in Python are used to traverse through a sequence of data (e.g., lists, tuples, strings) without the need for indexing. Iterators help handle data streams efficiently, especially when dealing with large datasets or infinite sequences."
   ]
  },
  {
   "cell_type": "markdown",
   "metadata": {},
   "source": [
    "When to Use Iterators:\n",
    "\n",
    "Memory Efficiency:\n",
    "\n",
    "Iterators are useful when dealing with large datasets because they generate items one at a time (lazy evaluation) rather than loading the entire data into memory. This is particularly beneficial when working with large files, streams, or sequences that can't fit into memory at once.\n",
    "\n",
    "Infinite Sequences:\n",
    "\n",
    "If you need to generate values continuously or indefinitely, an iterator allows you to produce values on the fly without ever storing them all in memory. For example, generating an infinite sequence of numbers, prime numbers, or even the Fibonacci sequence.\n",
    "\n",
    "Abstraction of Loops:\n",
    "\n",
    "Iterators abstract the iteration process and make code more readable and reusable. Instead of manually controlling the flow with counters and conditional logic, the __iter__() and __next__() methods define how to move to the next item."
   ]
  },
  {
   "cell_type": "markdown",
   "metadata": {},
   "source": [
    "When to Use Each:\n",
    "\n",
    "for Loop:\n",
    "\n",
    "Use case: When you want to simplify the iteration process and don’t need to manage the iterator manually. It’s the most common and easiest way to iterate over elements of a collection.\n",
    "Use with sequences: Lists, tuples, dictionaries, strings, and ranges.\n",
    "Example: Iterating over a list of items, processing data line by line in a file, etc.\n",
    "\n",
    "Iterator:\n",
    "\n",
    "Use case: When you want fine-grained control over the iteration process or when you’re working with custom iterable objects that generate values lazily, like reading large files, processing streams, or handling large data sets.\n",
    "Use when: You need to generate an infinite sequence, work with potentially infinite data, or need to create custom classes that control the iteration process.\n",
    "Example: Creating a generator function, fetching data from a live sensor, processing very large datasets one piece at a time."
   ]
  },
  {
   "cell_type": "code",
   "execution_count": 1,
   "metadata": {},
   "outputs": [
    {
     "name": "stdout",
     "output_type": "stream",
     "text": [
      "1\n",
      "2\n",
      "3\n",
      "5\n",
      "7\n",
      "8\n",
      "9\n"
     ]
    }
   ],
   "source": [
    "lst = [1,2,3,5,7,8,9]\n",
    "\n",
    "for i in lst:\n",
    "    print(i)"
   ]
  },
  {
   "cell_type": "code",
   "execution_count": 2,
   "metadata": {},
   "outputs": [
    {
     "data": {
      "text/plain": [
       "list"
      ]
     },
     "execution_count": 2,
     "metadata": {},
     "output_type": "execute_result"
    }
   ],
   "source": [
    "type(lst)"
   ]
  },
  {
   "cell_type": "code",
   "execution_count": 3,
   "metadata": {},
   "outputs": [],
   "source": [
    "list1 = iter(lst)"
   ]
  },
  {
   "cell_type": "code",
   "execution_count": 4,
   "metadata": {},
   "outputs": [
    {
     "data": {
      "text/plain": [
       "list_iterator"
      ]
     },
     "execution_count": 4,
     "metadata": {},
     "output_type": "execute_result"
    }
   ],
   "source": [
    "type(list1)"
   ]
  },
  {
   "cell_type": "code",
   "execution_count": 5,
   "metadata": {},
   "outputs": [
    {
     "data": {
      "text/plain": [
       "<list_iterator at 0x283aab32080>"
      ]
     },
     "execution_count": 5,
     "metadata": {},
     "output_type": "execute_result"
    }
   ],
   "source": [
    "list1"
   ]
  },
  {
   "cell_type": "code",
   "execution_count": 13,
   "metadata": {},
   "outputs": [
    {
     "ename": "StopIteration",
     "evalue": "",
     "output_type": "error",
     "traceback": [
      "\u001b[1;31m---------------------------------------------------------------------------\u001b[0m",
      "\u001b[1;31mStopIteration\u001b[0m                             Traceback (most recent call last)",
      "Cell \u001b[1;32mIn[13], line 1\u001b[0m\n\u001b[1;32m----> 1\u001b[0m \u001b[38;5;28mprint\u001b[39m(\u001b[38;5;28;43mnext\u001b[39;49m\u001b[43m(\u001b[49m\u001b[43mlist1\u001b[49m\u001b[43m)\u001b[49m)\n",
      "\u001b[1;31mStopIteration\u001b[0m: "
     ]
    }
   ],
   "source": [
    "print(next(list1))"
   ]
  },
  {
   "cell_type": "code",
   "execution_count": 16,
   "metadata": {},
   "outputs": [],
   "source": [
    "new_list = [1,56,34,21,56,78,45]\n",
    "iter_list = iter(new_list)"
   ]
  },
  {
   "cell_type": "code",
   "execution_count": 24,
   "metadata": {},
   "outputs": [
    {
     "name": "stdout",
     "output_type": "stream",
     "text": [
      "there is no more element\n"
     ]
    }
   ],
   "source": [
    "try:\n",
    "    print(next(iter_list))\n",
    "except StopIteration:\n",
    "    print(\"there is no more element\")"
   ]
  },
  {
   "cell_type": "markdown",
   "metadata": {},
   "source": [
    "Definition:\n",
    "\n",
    "for loop: the for loop is a control flow statement that automates the process of iterating over the sequences like list, tuple, strings, dictionaries or any objects that implements the iterable protocol.\n",
    "\n",
    "iterator: An iterator is an object that implements the iterator protocol, which consists of the __iter__() and __next__() methods. "
   ]
  },
  {
   "cell_type": "code",
   "execution_count": 33,
   "metadata": {},
   "outputs": [],
   "source": [
    "class Counter:\n",
    "    def __init__(self, start, end): \n",
    "        self.start = start #1\n",
    "        self.end = end #5\n",
    "    \n",
    "    def __iter__(self):\n",
    "        return self #it returns the object\n",
    "    \n",
    "    def __next__(self):\n",
    "        if self.start <= self.end:\n",
    "            value = self.start #1, 2, 3, 4, 5\n",
    "            self.start += 1\n",
    "            return value\n",
    "        else:\n",
    "            raise StopIteration\n",
    "\n",
    "counter = Counter(1,5)\n",
    "# print(next(counter))\n",
    "# print(next(counter))\n",
    "# print(next(counter))\n",
    "# print(next(counter))\n",
    "# print(next(counter))\n",
    "# print(next(counter))"
   ]
  },
  {
   "cell_type": "code",
   "execution_count": 34,
   "metadata": {},
   "outputs": [
    {
     "name": "stdout",
     "output_type": "stream",
     "text": [
      "1\n",
      "2\n",
      "3\n",
      "4\n",
      "5\n"
     ]
    }
   ],
   "source": [
    "for number in counter:\n",
    "    print(number)"
   ]
  },
  {
   "cell_type": "markdown",
   "metadata": {},
   "source": [
    "__iter__():\n",
    "    when the \"for number in counter\": loop begins, it calls counter.__iter__().\n",
    "    since __iter__() returns self, it returns the counter object itself, which also acts as its own iterator. \n",
    "\n",
    "__next__():\n",
    "    on each iteration, python calls counter.__next__() to get the next values\n",
    "    the __next__() method generated the next value (self.start), updated the internal state (self.start += 1) and returns the value\n",
    "    once the start exceeds end, the StopIteration exception is raised, signaling the end of the iteration.    "
   ]
  },
  {
   "cell_type": "code",
   "execution_count": 38,
   "metadata": {},
   "outputs": [],
   "source": [
    "class Sensor:\n",
    "    def __init__(self):\n",
    "        self.current_value = 0\n",
    "    \n",
    "    def __iter__(self):\n",
    "        return self\n",
    "    \n",
    "    def __next__(self):\n",
    "        self.current_value += 1\n",
    "        if self.current_value>100:\n",
    "            raise StopIteration\n",
    "        return f\"Sensor values: {self.current_value}\"\n",
    "\n",
    "sensor = Sensor()\n",
    "# print(next(sensor))\n",
    "# print(next(sensor))\n",
    "# print(next(sensor))\n"
   ]
  },
  {
   "cell_type": "markdown",
   "metadata": {},
   "source": [
    "Other Real-World Examples:\n",
    "\n",
    "Data Streaming (e.g., Reading from a Database or API):\n",
    "\n",
    "When querying large datasets from a database or fetching data from an API, iterators help retrieve and process records one by one rather than fetching everything at once.\n",
    "\n",
    "Pagination (Web Scraping or APIs):\n",
    "\n",
    "When scraping a website or fetching data from an API that supports pagination, you can use an iterator to go through the pages without making all requests at once.\n",
    "\n",
    "Real-Time Sensor Data:\n",
    "\n",
    "Iterators can be used in IoT applications to collect and process sensor data continuously, where new data is generated at each moment, and storing all the data in memory is impractical.\n",
    "\n",
    "This simulates reading real-time data from a sensor, where each value is produced lazily (one at a time) rather than storing all values in memory."
   ]
  },
  {
   "cell_type": "code",
   "execution_count": 39,
   "metadata": {},
   "outputs": [
    {
     "name": "stdout",
     "output_type": "stream",
     "text": [
      "Sensor values: 1\n",
      "Sensor values: 2\n",
      "Sensor values: 3\n",
      "Sensor values: 4\n",
      "Sensor values: 5\n",
      "Sensor values: 6\n",
      "Sensor values: 7\n",
      "Sensor values: 8\n",
      "Sensor values: 9\n",
      "Sensor values: 10\n",
      "Sensor values: 11\n",
      "Sensor values: 12\n",
      "Sensor values: 13\n",
      "Sensor values: 14\n",
      "Sensor values: 15\n",
      "Sensor values: 16\n",
      "Sensor values: 17\n",
      "Sensor values: 18\n",
      "Sensor values: 19\n",
      "Sensor values: 20\n",
      "Sensor values: 21\n",
      "Sensor values: 22\n",
      "Sensor values: 23\n",
      "Sensor values: 24\n",
      "Sensor values: 25\n",
      "Sensor values: 26\n",
      "Sensor values: 27\n",
      "Sensor values: 28\n",
      "Sensor values: 29\n",
      "Sensor values: 30\n",
      "Sensor values: 31\n",
      "Sensor values: 32\n",
      "Sensor values: 33\n",
      "Sensor values: 34\n",
      "Sensor values: 35\n",
      "Sensor values: 36\n",
      "Sensor values: 37\n",
      "Sensor values: 38\n",
      "Sensor values: 39\n",
      "Sensor values: 40\n",
      "Sensor values: 41\n",
      "Sensor values: 42\n",
      "Sensor values: 43\n",
      "Sensor values: 44\n",
      "Sensor values: 45\n",
      "Sensor values: 46\n",
      "Sensor values: 47\n",
      "Sensor values: 48\n",
      "Sensor values: 49\n",
      "Sensor values: 50\n",
      "Sensor values: 51\n",
      "Sensor values: 52\n",
      "Sensor values: 53\n",
      "Sensor values: 54\n",
      "Sensor values: 55\n",
      "Sensor values: 56\n",
      "Sensor values: 57\n",
      "Sensor values: 58\n",
      "Sensor values: 59\n",
      "Sensor values: 60\n",
      "Sensor values: 61\n",
      "Sensor values: 62\n",
      "Sensor values: 63\n",
      "Sensor values: 64\n",
      "Sensor values: 65\n",
      "Sensor values: 66\n",
      "Sensor values: 67\n",
      "Sensor values: 68\n",
      "Sensor values: 69\n",
      "Sensor values: 70\n",
      "Sensor values: 71\n",
      "Sensor values: 72\n",
      "Sensor values: 73\n",
      "Sensor values: 74\n",
      "Sensor values: 75\n",
      "Sensor values: 76\n",
      "Sensor values: 77\n",
      "Sensor values: 78\n",
      "Sensor values: 79\n",
      "Sensor values: 80\n",
      "Sensor values: 81\n",
      "Sensor values: 82\n",
      "Sensor values: 83\n",
      "Sensor values: 84\n",
      "Sensor values: 85\n",
      "Sensor values: 86\n",
      "Sensor values: 87\n",
      "Sensor values: 88\n",
      "Sensor values: 89\n",
      "Sensor values: 90\n",
      "Sensor values: 91\n",
      "Sensor values: 92\n",
      "Sensor values: 93\n",
      "Sensor values: 94\n",
      "Sensor values: 95\n",
      "Sensor values: 96\n",
      "Sensor values: 97\n",
      "Sensor values: 98\n",
      "Sensor values: 99\n",
      "Sensor values: 100\n"
     ]
    }
   ],
   "source": [
    "for value in sensor:\n",
    "    print(value)"
   ]
  }
 ],
 "metadata": {
  "kernelspec": {
   "display_name": "Python 3",
   "language": "python",
   "name": "python3"
  },
  "language_info": {
   "codemirror_mode": {
    "name": "ipython",
    "version": 3
   },
   "file_extension": ".py",
   "mimetype": "text/x-python",
   "name": "python",
   "nbconvert_exporter": "python",
   "pygments_lexer": "ipython3",
   "version": "3.12.4"
  }
 },
 "nbformat": 4,
 "nbformat_minor": 2
}
