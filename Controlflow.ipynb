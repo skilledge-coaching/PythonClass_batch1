{
 "cells": [
  {
   "cell_type": "markdown",
   "metadata": {},
   "source": [
    "## Control Flow"
   ]
  },
  {
   "cell_type": "markdown",
   "metadata": {},
   "source": [
    "Braching Statement\n",
    "\n",
    "1 simple if \n",
    "2. if ....else\n",
    "3. if.. elif...else\n",
    "4. nested if"
   ]
  },
  {
   "cell_type": "markdown",
   "metadata": {},
   "source": [
    "Simple if\n",
    "syntax -- \n",
    "if condition:\n",
    "    #statement"
   ]
  },
  {
   "cell_type": "code",
   "execution_count": 18,
   "metadata": {},
   "outputs": [
    {
     "name": "stdout",
     "output_type": "stream",
     "text": [
      "this number is not 3\n"
     ]
    }
   ],
   "source": [
    "a = 7\n",
    "b = 5\n",
    "\n",
    "if a ==b:\n",
    "    print(\"this number is 3\")\n",
    "elif a == b:\n",
    "    print(\"this number is 4\")\n",
    "elif a == 5:\n",
    "    print(\"this number is 5\")\n",
    "elif a == 6:\n",
    "    print(\"this number is 6\")\n",
    "else:\n",
    "    print(\"this number is not 3\")"
   ]
  },
  {
   "cell_type": "code",
   "execution_count": 19,
   "metadata": {},
   "outputs": [
    {
     "name": "stdout",
     "output_type": "stream",
     "text": [
      "s is not presented in a\n"
     ]
    }
   ],
   "source": [
    "a = input(\"enter your name: \")\n",
    "\n",
    "if \"s\" in a:\n",
    "    print(\"s is presented in a\")\n",
    "else:\n",
    "    print(\"s is not presented in a\")"
   ]
  },
  {
   "cell_type": "code",
   "execution_count": 7,
   "metadata": {},
   "outputs": [
    {
     "name": "stdout",
     "output_type": "stream",
     "text": [
      "this number is 6\n"
     ]
    }
   ],
   "source": [
    "a = 6\n",
    "b = 7\n",
    "\n",
    "if a == 5:\n",
    "    print(\"this number is 5\")\n",
    "elif a>b: #6>7\n",
    "    print(\"this number is 4\")\n",
    "elif a<b: #6<7\n",
    "    print(\"this number is 6\")\n",
    "else:\n",
    "    print(\"this number is not 5\")"
   ]
  },
  {
   "cell_type": "code",
   "execution_count": 2,
   "metadata": {},
   "outputs": [],
   "source": [
    "a = int(input(\"Enter a number: \"))\n",
    "\n",
    "if a == 5:\n",
    "    print(\"The number is 5\")\n",
    "    "
   ]
  },
  {
   "cell_type": "code",
   "execution_count": 9,
   "metadata": {},
   "outputs": [
    {
     "name": "stdout",
     "output_type": "stream",
     "text": [
      "m is not presented in a\n"
     ]
    }
   ],
   "source": [
    "# if...else\n",
    "\n",
    "\"\"\"\n",
    "Syntax -\n",
    "if condition:\n",
    "    #statement\n",
    "else:\n",
    "    #statement\"\"\"\n",
    "\n",
    "a = input(\"Enter a name: \")\n",
    "\n",
    "if \"m\" in a:\n",
    "    print(\"m is presented in a\")\n",
    "else:\n",
    "    print(\"m is not presented in a\")"
   ]
  },
  {
   "cell_type": "code",
   "execution_count": 4,
   "metadata": {},
   "outputs": [
    {
     "name": "stdout",
     "output_type": "stream",
     "text": [
      "the given is above 7\n"
     ]
    }
   ],
   "source": [
    "# if..elif...else\n",
    "\n",
    "\"\"\"\n",
    "Syntax --\n",
    "if condition:\n",
    "    #statement\n",
    "elif Condition:\n",
    "    #statement\n",
    "else:\n",
    "    #statement\"\"\"\n",
    "\n",
    "a = int(input(\"enter a number: \"))\n",
    "\n",
    "if a == 5:\n",
    "    print(\"given number is 5\")\n",
    "elif a == 6:\n",
    "    print(\"given number is 6\")\n",
    "elif a == 7:\n",
    "    print(\"given number is 7\")\n",
    "else:\n",
    "    print(\"the given is above 7\")"
   ]
  },
  {
   "cell_type": "code",
   "execution_count": null,
   "metadata": {},
   "outputs": [],
   "source": [
    "# Nested if\n",
    "\n",
    "\"\"\"\n",
    "Syntax--\n",
    "if condition:\n",
    "    if condition:\n",
    "        #statement\"\"\""
   ]
  },
  {
   "cell_type": "code",
   "execution_count": 21,
   "metadata": {},
   "outputs": [
    {
     "name": "stdout",
     "output_type": "stream",
     "text": [
      "Not Eligible\n"
     ]
    }
   ],
   "source": [
    "age = int(input(\"enter your age: \"))\n",
    "\n",
    "if 18<age:\n",
    "    gender = input(\"enter your gender: \")\n",
    "    if gender == \"male\":\n",
    "        print(\"Eligible, Male\")\n",
    "    else:\n",
    "        print(\"Eligible, Female\")\n",
    "else:\n",
    "    print(\"Not Eligible\")\n",
    "\n",
    "\n"
   ]
  },
  {
   "cell_type": "code",
   "execution_count": null,
   "metadata": {},
   "outputs": [],
   "source": [
    "a = int(input())\n",
    "\n",
    "if a>18:\n",
    "    # print(\"Eligible\")\n",
    "    b = input()\n"
   ]
  },
  {
   "cell_type": "code",
   "execution_count": 11,
   "metadata": {},
   "outputs": [
    {
     "name": "stdout",
     "output_type": "stream",
     "text": [
      "eligible, but female\n"
     ]
    }
   ],
   "source": [
    "age = int(input(\"Enter your age: \"))\n",
    "\n",
    "if age>18:\n",
    "    gender = input(\"enter your gender: \")\n",
    "    if gender == \"male\":\n",
    "        print(\"Eligible, Male candidate\")\n",
    "    else: \n",
    "        print(\"eligible, but female\")\n",
    "else:\n",
    "    print(\"not eligible\")"
   ]
  },
  {
   "cell_type": "code",
   "execution_count": 6,
   "metadata": {},
   "outputs": [
    {
     "name": "stdout",
     "output_type": "stream",
     "text": [
      "not eligible\n"
     ]
    }
   ],
   "source": [
    "age = int(input(\"Enter your age:\"))\n",
    "\n",
    "if age>18:\n",
    "    gender = input(\"enter your gender: \")\n",
    "    if gender == \"male\":\n",
    "        print(\"Eligible, given candidate is male\")\n",
    "    else:\n",
    "        print(\"Eligible, given candidate is female\")\n",
    "else:\n",
    "    print(\"not eligible\")"
   ]
  },
  {
   "cell_type": "markdown",
   "metadata": {},
   "source": [
    "## Task-1"
   ]
  },
  {
   "cell_type": "markdown",
   "metadata": {},
   "source": [
    "Amount           Discount        Gift\n",
    "3000 - 5000        2%            Pen\n",
    "5001 - 7000        5%            Cooler\n",
    "7001 - 9000        8%            Calculator\n",
    "above 9000         12%           Cupons\n",
    "\n",
    "below 3000 - no gifts and discounts \n",
    "\n",
    "\n",
    "print \n",
    "total bill amount\n",
    "discount - \n",
    "amount to pay - total_amount-discout_amount\n",
    "gift - \n",
    "\n",
    "amount*(2/100)"
   ]
  },
  {
   "cell_type": "code",
   "execution_count": 1,
   "metadata": {},
   "outputs": [
    {
     "name": "stdout",
     "output_type": "stream",
     "text": [
      "Total bill amount:  6000\n",
      "discount amount:  120.0\n",
      "Amount to pay:  5880.0\n",
      "gift: Pen \n"
     ]
    }
   ],
   "source": [
    "amount = int(input(\"enter your bill amount: \"))\n",
    "\n",
    "\n",
    "if amount>3000:\n",
    "    # if amount>= 3000 and amount <= 5000:\n",
    "    if 3000<=amount>=5000:\n",
    "        discount = (amount/100) * 2\n",
    "        amount_to_pay = amount - discount\n",
    "        print(\"Total bill amount: \", amount)\n",
    "        print(\"discount amount: \", discount)\n",
    "        print(\"Amount to pay: \", amount_to_pay)\n",
    "        print(\"gift: Pen \")\n",
    "    elif 5001<=amount>=7000:\n",
    "        discount = (amount/100) * 5\n",
    "        amount_to_pay = amount - discount\n",
    "        print(\"Total bill amount: \", amount)\n",
    "        print(\"discount amount: \", discount)\n",
    "        print(\"Amount to pay: \", amount_to_pay)\n",
    "        print(\"gift: Cooler \")\n",
    "    elif 7001<=amount>=9000:\n",
    "        discount = (amount/100) * 8\n",
    "        amount_to_pay = amount - discount\n",
    "        print(\"Total bill amount: \", amount)\n",
    "        print(\"discount amount: \", discount)\n",
    "        print(\"Amount to pay: \", amount_to_pay)\n",
    "        print(\"gift: Calculator \")\n",
    "    elif amount>=9001:\n",
    "        discount = (amount/100) * 12\n",
    "        amount_to_pay = amount - discount\n",
    "        print(\"Total bill amount: \", amount)\n",
    "        print(\"discount amount: \", discount)\n",
    "        print(\"Amount to pay: \", amount_to_pay)\n",
    "        print(\"gift: Cupons \")\n",
    "else:\n",
    "    print(\"Total amount: \", amount)\n",
    "    print(\"No Discount and not gifts\")\n",
    "    print(\"Amount to pay:\", amount)\n",
    "\n"
   ]
  },
  {
   "cell_type": "markdown",
   "metadata": {},
   "source": [
    "## Task-2"
   ]
  },
  {
   "cell_type": "markdown",
   "metadata": {},
   "source": [
    "1. will ask the user to enter two number \n",
    "2. will ask the user to enter the operator (+, -, *, /) (all arithmetic operators)\n",
    "3. will perform the operation and display the result\n"
   ]
  },
  {
   "cell_type": "code",
   "execution_count": 4,
   "metadata": {},
   "outputs": [
    {
     "name": "stdout",
     "output_type": "stream",
     "text": [
      "\n",
      "The choices, \n",
      "      1-Addition\n",
      "      2-Subtraction\n",
      "      3-Multiplication\n",
      "      4-Division\n",
      "      5-Floor Division\n",
      "      6-Explonation\n",
      "      7-Modulus\n",
      "Enter a valid number (not zero)\n"
     ]
    }
   ],
   "source": [
    "num1 = int(input(\"Enter a number: \"))\n",
    "num2 = int(input(\"Enter another number: \"))\n",
    "\n",
    "print(\"\"\"\n",
    "The choices, \n",
    "      1-Addition\n",
    "      2-Subtraction\n",
    "      3-Multiplication\n",
    "      4-Division\n",
    "      5-Floor Division\n",
    "      6-Explonation\n",
    "      7-Modulus\"\"\")\n",
    "\n",
    "choice = int(input(\"enter your choice (1/2/3/4/5/6/7)\"))\n",
    "\n",
    "if choice == 1:\n",
    "    print(\"sum of two numbers is: \", num1 + num2)\n",
    "elif choice == 2:\n",
    "    print(f\"Subtraction of {num1} and {num2} is: \", num1 - num2)\n",
    "elif choice == 3:\n",
    "    print(f\"Multiplication of {num1} and {num2} is: \", num1*num2)\n",
    "elif choice == 4:\n",
    "    if num2 != 0:\n",
    "        print(f\"Division of {num1} and {num2} is: \", num1/num2)\n",
    "    else:\n",
    "        print(f\"Enter a valid number {num2} (not zero)\")\n",
    "elif choice == 5:\n",
    "    print(f\"Floor Division of {num1} and {num2} is: \", num1//num2)\n",
    "elif choice == 6:\n",
    "    print(f\"Explonation of {num1} and {num2} is: \", num1**num2)\n",
    "else:\n",
    "    print(f\"Modulus of {num1} and {num2} is: \", num1%num2)"
   ]
  }
 ],
 "metadata": {
  "kernelspec": {
   "display_name": "Python 3",
   "language": "python",
   "name": "python3"
  },
  "language_info": {
   "codemirror_mode": {
    "name": "ipython",
    "version": 3
   },
   "file_extension": ".py",
   "mimetype": "text/x-python",
   "name": "python",
   "nbconvert_exporter": "python",
   "pygments_lexer": "ipython3",
   "version": "3.12.4"
  }
 },
 "nbformat": 4,
 "nbformat_minor": 2
}
