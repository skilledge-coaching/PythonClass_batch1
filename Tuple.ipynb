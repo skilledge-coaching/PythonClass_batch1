{
 "cells": [
  {
   "cell_type": "markdown",
   "metadata": {
    "vscode": {
     "languageId": "bat"
    }
   },
   "source": [
    "## Tuple"
   ]
  },
  {
   "cell_type": "markdown",
   "metadata": {},
   "source": [
    "Tuple are used to store multiple items in a single variable\n",
    "\n",
    "rule:\n",
    "  ordered\n",
    "  unchangeable\n",
    "  allow duplicate\n",
    "  can access with index values"
   ]
  },
  {
   "cell_type": "code",
   "execution_count": 1,
   "metadata": {},
   "outputs": [
    {
     "name": "stdout",
     "output_type": "stream",
     "text": [
      "(2, 4, 5.9, True, 'python', 34)\n"
     ]
    }
   ],
   "source": [
    "thetuple = (2,4,5.9, True, \"python\", 34 )\n",
    "print(thetuple)"
   ]
  },
  {
   "cell_type": "code",
   "execution_count": 2,
   "metadata": {},
   "outputs": [
    {
     "ename": "TypeError",
     "evalue": "'tuple' object does not support item assignment",
     "output_type": "error",
     "traceback": [
      "\u001b[1;31m---------------------------------------------------------------------------\u001b[0m",
      "\u001b[1;31mTypeError\u001b[0m                                 Traceback (most recent call last)",
      "Cell \u001b[1;32mIn[2], line 1\u001b[0m\n\u001b[1;32m----> 1\u001b[0m \u001b[43mthetuple\u001b[49m\u001b[43m[\u001b[49m\u001b[38;5;241;43m2\u001b[39;49m\u001b[43m]\u001b[49m \u001b[38;5;241m=\u001b[39m \u001b[38;5;241m45\u001b[39m\n\u001b[0;32m      2\u001b[0m \u001b[38;5;28mprint\u001b[39m(thetuple)\n",
      "\u001b[1;31mTypeError\u001b[0m: 'tuple' object does not support item assignment"
     ]
    }
   ],
   "source": [
    "#immutable data type\n",
    "thetuple[2] = 45\n",
    "print(thetuple)"
   ]
  },
  {
   "cell_type": "code",
   "execution_count": 9,
   "metadata": {},
   "outputs": [
    {
     "name": "stdout",
     "output_type": "stream",
     "text": [
      "after change:  [2, 4, 5.9, False, 'python', 34]\n",
      "(2, 4, 5.9, False, 'python', 34)\n"
     ]
    }
   ],
   "source": [
    "#using the type convertion method we can change the values in tuple\n",
    "\n",
    "tuple_list = list(thetuple)\n",
    "# print(tuple_list)\n",
    "# print(type(tuple_list))\n",
    "\n",
    "\n",
    "tuple_list[3] = False\n",
    "print(\"after change: \", tuple_list)\n",
    "\n",
    "thetuple = tuple(tuple_list)\n",
    "print(thetuple)"
   ]
  },
  {
   "cell_type": "markdown",
   "metadata": {},
   "source": [
    "## Unpacking"
   ]
  },
  {
   "cell_type": "markdown",
   "metadata": {},
   "source": [
    "When we create a tuple, we normally assign values to it. That is called \"Packing\" a tuple\n",
    "\n",
    "But, in python, we are also allowed to extract the values into variables. That is called \"Unpacking\" a tuple"
   ]
  },
  {
   "cell_type": "code",
   "execution_count": 29,
   "metadata": {},
   "outputs": [],
   "source": [
    "fruits = (\"apple\", \"kiwi\", \"cherry\")"
   ]
  },
  {
   "cell_type": "code",
   "execution_count": 30,
   "metadata": {},
   "outputs": [
    {
     "name": "stdout",
     "output_type": "stream",
     "text": [
      "apple\n",
      "kiwi\n",
      "cherry\n"
     ]
    }
   ],
   "source": [
    "red, yellow, green = fruits\n",
    "\n",
    "print(red)\n",
    "print(yellow)\n",
    "print(green)"
   ]
  },
  {
   "cell_type": "code",
   "execution_count": 31,
   "metadata": {},
   "outputs": [
    {
     "name": "stdout",
     "output_type": "stream",
     "text": [
      "('apple', 'kiwi', 'cherry', 'carrot', 'tomato')\n",
      "('apple', 'kiwi', 'cherry', 'apple', 'kiwi', 'cherry')\n"
     ]
    }
   ],
   "source": [
    "#Join tuples\n",
    "veg = (\"carrot\", \"tomato\")\n",
    "\n",
    "combine = fruits+veg\n",
    "print(combine)\n",
    "\n",
    "combine_same = fruits * 2\n",
    "print(combine_same)"
   ]
  },
  {
   "cell_type": "code",
   "execution_count": 22,
   "metadata": {},
   "outputs": [
    {
     "name": "stdout",
     "output_type": "stream",
     "text": [
      "2\n",
      "0\n"
     ]
    }
   ],
   "source": [
    "# count() \n",
    "# index() - find the index values to specified values\n",
    "\n",
    "\n",
    "print(combine_same.count('apple')) \n",
    "print(combine_same.index('apple'))"
   ]
  },
  {
   "cell_type": "code",
   "execution_count": 32,
   "metadata": {},
   "outputs": [
    {
     "name": "stdout",
     "output_type": "stream",
     "text": [
      "('apple', 'kiwi', 'cherry', 'apple', 'kiwi', 'cherry')\n",
      "apple\n",
      "apple\n"
     ]
    }
   ],
   "source": [
    "print(combine_same)\n",
    "\n",
    "for i in combine_same:\n",
    "    if i[0] == 'a' or i[0] == \"A\":\n",
    "        print(i)"
   ]
  },
  {
   "cell_type": "code",
   "execution_count": 33,
   "metadata": {},
   "outputs": [
    {
     "data": {
      "text/plain": [
       "'o'"
      ]
     },
     "execution_count": 33,
     "metadata": {},
     "output_type": "execute_result"
    }
   ],
   "source": [
    "a = \"Python\"\n",
    "\n",
    "a[4]"
   ]
  },
  {
   "cell_type": "markdown",
   "metadata": {},
   "source": [
    "# Unpacking"
   ]
  },
  {
   "cell_type": "code",
   "execution_count": 34,
   "metadata": {},
   "outputs": [],
   "source": [
    "shop = ('apple', 'kiwi', 'cherry', 'apple', 'kiwi', 'cherry')"
   ]
  },
  {
   "cell_type": "code",
   "execution_count": 35,
   "metadata": {},
   "outputs": [],
   "source": [
    "(green, yellow, * red) = shop"
   ]
  },
  {
   "cell_type": "code",
   "execution_count": 36,
   "metadata": {},
   "outputs": [
    {
     "name": "stdout",
     "output_type": "stream",
     "text": [
      "apple\n",
      "kiwi\n",
      "['cherry', 'apple', 'kiwi', 'cherry']\n"
     ]
    }
   ],
   "source": [
    "print(green)\n",
    "print(yellow)\n",
    "print(red)"
   ]
  }
 ],
 "metadata": {
  "kernelspec": {
   "display_name": "Python 3",
   "language": "python",
   "name": "python3"
  },
  "language_info": {
   "codemirror_mode": {
    "name": "ipython",
    "version": 3
   },
   "file_extension": ".py",
   "mimetype": "text/x-python",
   "name": "python",
   "nbconvert_exporter": "python",
   "pygments_lexer": "ipython3",
   "version": "3.12.4"
  }
 },
 "nbformat": 4,
 "nbformat_minor": 2
}
