{
 "cells": [
  {
   "cell_type": "markdown",
   "metadata": {},
   "source": [
    "## Operators"
   ]
  },
  {
   "cell_type": "markdown",
   "metadata": {},
   "source": [
    "operators - between two or more variables\n",
    "operands - variable\n",
    "\n",
    "1. Arithmetic Operator\n",
    "-- +\n",
    "-- -\n",
    "-- *\n",
    "-- /  -- returns float value (quotient)\n",
    "-- // -- returns intiger value (quotient)\n",
    "-- % -- returns remainder \n",
    "-- ** -- "
   ]
  },
  {
   "cell_type": "code",
   "execution_count": 1,
   "metadata": {},
   "outputs": [
    {
     "name": "stdout",
     "output_type": "stream",
     "text": [
      "add 14\n",
      "subtract 2\n",
      "multiplication 48\n",
      "division 1.3333333333333333\n",
      "floor div 1\n",
      "modu 2\n",
      "Exp 262144\n"
     ]
    }
   ],
   "source": [
    "a = 8\n",
    "b= 6\n",
    "\n",
    "\n",
    "\n",
    "print(\"add\", a+b)\n",
    "print(\"subtract\", a-b)\n",
    "print(\"multiplication\", a*b)\n",
    "print(\"division\", a/b)\n",
    "print(\"floor div\", a//b)\n",
    "print(\"modu\", a%b)\n",
    "print(\"Exp\", a**b) #8**6 (8)^6 8*8*8*8"
   ]
  },
  {
   "cell_type": "markdown",
   "metadata": {},
   "source": [
    "Comparison operators \n",
    "\n",
    "-- ==\n",
    "-- !=\n",
    "-- <\n",
    "-- >\n",
    "-- <=\n",
    "-- >="
   ]
  },
  {
   "cell_type": "code",
   "execution_count": 3,
   "metadata": {},
   "outputs": [
    {
     "name": "stdout",
     "output_type": "stream",
     "text": [
      "== True\n",
      "!= False\n",
      "< False\n",
      "<= True\n",
      "> False\n",
      ">= True\n"
     ]
    }
   ],
   "source": [
    "a = 45\n",
    "b = 45\n",
    "\n",
    "print(\"==\", a == b)\n",
    "print(\"!=\", a!=b)\n",
    "print(\"<\", a<b)  #45 < 33  33 > 89\n",
    "print(\"<=\", a<=b) #45 <= 45\n",
    "print(\">\", a>b) #45 > 33\n",
    "print(\">=\", a>=b) #45 >= 33"
   ]
  },
  {
   "cell_type": "markdown",
   "metadata": {},
   "source": [
    "Logical Operators \n",
    "\n",
    "-- and\n",
    "-- or\n",
    "-- not "
   ]
  },
  {
   "cell_type": "code",
   "execution_count": 7,
   "metadata": {},
   "outputs": [
    {
     "name": "stdout",
     "output_type": "stream",
     "text": [
      "and False\n",
      "or True\n",
      "not False\n"
     ]
    }
   ],
   "source": [
    "a = 6\n",
    "b = 10\n",
    "\n",
    "print(\"and\", a == 3 and b > a) # 3>4 --- 4>3 --10>6\n",
    "print(\"or\", a == 5 or b > a)\n",
    "print(\"not\", not(a==6))  #--> not(True) --> True"
   ]
  },
  {
   "cell_type": "markdown",
   "metadata": {},
   "source": [
    "Identity Operators -- these operators are used to compare the objects, not if they are equal but if they are actually the same object with the same memory location \n",
    "\n",
    "-- is \n",
    "-- is not "
   ]
  },
  {
   "cell_type": "code",
   "execution_count": 9,
   "metadata": {},
   "outputs": [
    {
     "name": "stdout",
     "output_type": "stream",
     "text": [
      "is True\n",
      "is False\n",
      "True\n",
      "True\n"
     ]
    }
   ],
   "source": [
    "a = ['apple', 'banana'] --a --memory (1)\n",
    "b = ['apple', 'banana'] --b --memory (2)\n",
    "c = a\n",
    "\n",
    "# print(\"a\", a)\n",
    "# print(\"c\", c)\n",
    "\n",
    "print(\"is\",a is c) #--> a is c True -- same object and also same memory location \n",
    "print(\"is\",a is b) #--> a is b False -- a is not the same object as b even if they have the same content\n",
    "print(a == b) #--> a == b the comparison returns True because a is equal to b \n",
    "\n",
    "print( a is not b) # returns opposite value of is "
   ]
  },
  {
   "cell_type": "markdown",
   "metadata": {},
   "source": [
    "Membership Operators -to test if a sequence is presented in an object \n",
    "\n",
    "-- in \n",
    "-- not in "
   ]
  },
  {
   "cell_type": "code",
   "execution_count": 12,
   "metadata": {},
   "outputs": [
    {
     "name": "stdout",
     "output_type": "stream",
     "text": [
      "True\n"
     ]
    }
   ],
   "source": [
    "a = \"Arivumathi\"\n",
    "\n",
    "print(\"y\" not in a)"
   ]
  },
  {
   "cell_type": "code",
   "execution_count": 22,
   "metadata": {},
   "outputs": [
    {
     "name": "stdout",
     "output_type": "stream",
     "text": [
      "in False\n",
      "not in True\n"
     ]
    }
   ],
   "source": [
    "a = \"Python\"\n",
    "\n",
    "print(\"in\", \"a\" in a)\n",
    "print(\"not in\", \"a\" not in a)\n"
   ]
  },
  {
   "cell_type": "markdown",
   "metadata": {},
   "source": [
    "Bitwise Operators \n",
    "\n",
    "& - AND - 1 - 1 --> 1 otherwise 0 \n",
    "| - OR - 1 -->\n",
    "~ - NOT\n",
    "^ - XOR\n",
    "<< - Zero fill left shift\n",
    ">> - Zero fill right shift"
   ]
  },
  {
   "cell_type": "markdown",
   "metadata": {},
   "source": [
    "AND\n",
    "1 - 0 -- 1 & 0 - 0    --  | 1   --~ 1 --> 0  -- ^ 1 - 1 -- 1\n",
    "0 - 1 -- 0 & 1 - 0    --  | 1   --~ 0 --> 1  -- ^ 0 - 0 -- 1\n",
    "0 - 0 -- 0 & 0 - 0    --  | 0                -- ^ 1 - 0 -- 0\n",
    "1 - 1 -- 1 & 1 - 1    --  | 1                -- ^ 0 - 1 -- 0"
   ]
  },
  {
   "cell_type": "markdown",
   "metadata": {},
   "source": [
    "Decimal numbers and their binary values:\n",
    "0 = 0000000000000000\n",
    "1 = 0000000000000001\n",
    "2 = 0000000000000010\n",
    "3 = 0000000000000011\n",
    "4 = 0000000000000100\n",
    "5 = 0000000000000101\n",
    "6 = 0000000000000110\n",
    "7 = 0000000000000111"
   ]
  },
  {
   "cell_type": "code",
   "execution_count": 27,
   "metadata": {},
   "outputs": [
    {
     "name": "stdout",
     "output_type": "stream",
     "text": [
      "AND 11\n"
     ]
    }
   ],
   "source": [
    "a = 11\n",
    "b = 43\n",
    "\n",
    "print(\"AND\", a & b)\n",
    "\n",
    "#a = 0 --> 0000000000000000   1-1 -->1\n",
    "#b = 1 --> 0000000000000001\n",
    "\n",
    "# --> 0000000000000000"
   ]
  },
  {
   "cell_type": "code",
   "execution_count": 28,
   "metadata": {},
   "outputs": [
    {
     "name": "stdout",
     "output_type": "stream",
     "text": [
      "-4\n"
     ]
    }
   ],
   "source": [
    "print(~3)\n",
    "\n",
    "# 3 = 0000000000000011 --> 1111111111111100"
   ]
  },
  {
   "cell_type": "code",
   "execution_count": 13,
   "metadata": {},
   "outputs": [
    {
     "name": "stdout",
     "output_type": "stream",
     "text": [
      "XOR 1\n"
     ]
    }
   ],
   "source": [
    "print(\"XOR\", 3 ^ 2)"
   ]
  },
  {
   "cell_type": "code",
   "execution_count": 14,
   "metadata": {},
   "outputs": [
    {
     "name": "stdout",
     "output_type": "stream",
     "text": [
      "24\n",
      "0\n"
     ]
    }
   ],
   "source": [
    "# << - Zero fill left shift\n",
    "\n",
    "# - 00021110000\n",
    "\n",
    "print(3<<3)\n",
    "\n",
    "0000000000011000\n",
    "\n",
    "# 0000000000011000\n",
    "\n",
    "\n",
    "# 0000000001100000\n",
    "\n",
    "print(3>>2) #right\n",
    "\n",
    "# 0000000000000110\n",
    "# 0000000000000110"
   ]
  },
  {
   "cell_type": "markdown",
   "metadata": {},
   "source": [
    "Assignment Operator\n",
    "\n",
    "= --> assignment operator \n",
    "+=\n",
    "-=\n",
    "*=\n",
    "/=\n",
    "%=\n",
    "//=\n",
    "**=\n",
    "\n"
   ]
  },
  {
   "cell_type": "code",
   "execution_count": 17,
   "metadata": {},
   "outputs": [
    {
     "name": "stdout",
     "output_type": "stream",
     "text": [
      "6\n"
     ]
    }
   ],
   "source": [
    "a = 3\n",
    "a = 6\n",
    "print(a)"
   ]
  },
  {
   "cell_type": "code",
   "execution_count": 22,
   "metadata": {},
   "outputs": [
    {
     "name": "stdout",
     "output_type": "stream",
     "text": [
      "before 8\n",
      "after: 64\n"
     ]
    }
   ],
   "source": [
    "x = 5\n",
    "\n",
    "x += 3\n",
    "print(\"before\", x)\n",
    "\n",
    "x **= 2\n",
    "print(\"after:\",x)"
   ]
  },
  {
   "cell_type": "code",
   "execution_count": 4,
   "metadata": {},
   "outputs": [
    {
     "name": "stdout",
     "output_type": "stream",
     "text": [
      "8\n"
     ]
    }
   ],
   "source": [
    "x = 5\n",
    "\n",
    "x += 3  # --> 5 +=3\n",
    "print(x)\n",
    "\n",
    "a = 3\n",
    "a= 5\n",
    "print(a)"
   ]
  },
  {
   "cell_type": "code",
   "execution_count": 5,
   "metadata": {},
   "outputs": [
    {
     "data": {
      "text/plain": [
       "5"
      ]
     },
     "execution_count": 5,
     "metadata": {},
     "output_type": "execute_result"
    }
   ],
   "source": [
    "x -= 3  #--> 8 -=3\n",
    "x"
   ]
  },
  {
   "cell_type": "markdown",
   "metadata": {},
   "source": [
    "\n",
    "\n",
    "()\n",
    "**\n",
    "~X\n",
    "* / // %\n",
    "+ -\n",
    "<< >>\n",
    "&\n",
    "^\n",
    "|\n",
    "= != > >= < <=\n",
    "not\n",
    "and or\n",
    "\n",
    "()\n",
    "**\n",
    "* / // %\n",
    "+ -\n",
    "= != > >= < <=\n",
    "not\n",
    "and or \n",
    "\n",
    "2+5*4/(2-5) BODMAS"
   ]
  },
  {
   "cell_type": "code",
   "execution_count": 6,
   "metadata": {},
   "outputs": [
    {
     "name": "stdout",
     "output_type": "stream",
     "text": [
      "50\n"
     ]
    }
   ],
   "source": [
    "a = 4\n",
    "print((2+3*4**a)) #--> 2 + (3*(4**2))\n",
    "\n"
   ]
  },
  {
   "cell_type": "markdown",
   "metadata": {},
   "source": [
    "num1 = int()"
   ]
  },
  {
   "cell_type": "code",
   "execution_count": 2,
   "metadata": {},
   "outputs": [
    {
     "name": "stdout",
     "output_type": "stream",
     "text": [
      "1 - Addition\n",
      "2 - Subtraction\n",
      "the result of 23+45 is 68\n"
     ]
    }
   ],
   "source": [
    "num1 = int(input(\"enter a number: \"))\n",
    "num2 = int(input(\"enter a number: \"))\n",
    "\n",
    "print(\"1 - Addition\")\n",
    "print(\"2 - Subtraction\")\n",
    "choice = input(\"Enter your choice(1/2/3/4):\")\n",
    "\n",
    "if choice == '1':\n",
    "    result = num1 + num2\n",
    "    # print(\"the result of\",num1 ,\"+\",num2, \"is: \", result)\n",
    "    print(f\"the result of {num1}+{num2} is\", result)  #f-string or formatted string literals "
   ]
  }
 ],
 "metadata": {
  "kernelspec": {
   "display_name": "Python 3",
   "language": "python",
   "name": "python3"
  },
  "language_info": {
   "codemirror_mode": {
    "name": "ipython",
    "version": 3
   },
   "file_extension": ".py",
   "mimetype": "text/x-python",
   "name": "python",
   "nbconvert_exporter": "python",
   "pygments_lexer": "ipython3",
   "version": "3.12.4"
  }
 },
 "nbformat": 4,
 "nbformat_minor": 2
}
