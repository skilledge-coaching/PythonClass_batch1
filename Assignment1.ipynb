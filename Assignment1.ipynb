{
 "cells": [
  {
   "cell_type": "markdown",
   "metadata": {},
   "source": [
    "Write a Python program to calculate a person's Body Mass Index (BMI) using the formula:\n",
    "\n",
    "BMI = weight (kg)/ (height)**2 (m) \n",
    "\n",
    "The program should prompt the user to input their weight in kilograms and height in meters. Based on the calculated BMI, the program should determine and display the user's BMI category according to the following scale:\n",
    "\n",
    "BMI < 16.0: Severely underweight\n",
    "16.0 ≤ BMI < 18.5: Underweight\n",
    "18.5 ≤ BMI < 25.0: Normal weight\n",
    "25.0 ≤ BMI < 30.0: Overweight\n",
    "30.0 ≤ BMI < 35.0: Moderately obese\n",
    "35.0 ≤ BMI < 40.0: Severely obese\n",
    "BMI ≥ 40.0: Over obese\n",
    "The output should display the calculated BMI and the corresponding category.\n",
    "\n"
   ]
  },
  {
   "cell_type": "code",
   "execution_count": null,
   "metadata": {},
   "outputs": [],
   "source": [
    "# Type your code here"
   ]
  },
  {
   "cell_type": "markdown",
   "metadata": {},
   "source": [
    "Write a Python program that calculates how many days, weeks, and months you have left to live if your lifespan is 90 years. Assume the following:\n",
    "\n",
    "1 year = 365 days\n",
    "1 year = 52 weeks\n",
    "1 year = 12 months\n",
    "The program should prompt the user to input their current age and then display the number of days, weeks, and months they have left to live, assuming they live to 90 years. The output should be formatted as:\n",
    "You have X days, Y weeks, and Z months left to live."
   ]
  },
  {
   "cell_type": "code",
   "execution_count": null,
   "metadata": {},
   "outputs": [],
   "source": [
    "#Type your code here"
   ]
  },
  {
   "cell_type": "markdown",
   "metadata": {},
   "source": [
    "Find a year is Leap year or not\n",
    "\n",
    "year --> \n",
    "condition 1 --> divisible by 4 - yes (leap or may be) - no (not a leap)\n",
    "condition 2 --> divisible by 100 - yes (then check another condition) - no (leap year)\n",
    "condition 3 --> divisible by 400 - yes (LEAP YEAR) - no (not a leap year)"
   ]
  },
  {
   "cell_type": "code",
   "execution_count": null,
   "metadata": {},
   "outputs": [],
   "source": [
    "# Type your code here"
   ]
  },
  {
   "cell_type": "markdown",
   "metadata": {},
   "source": [
    "## Small project\n",
    "\n",
    "Bill Generator"
   ]
  },
  {
   "cell_type": "markdown",
   "metadata": {},
   "source": [
    "Pizza bill generator\n",
    "\n",
    "small pizza - 100\n",
    "mediam pizza - 200\n",
    "large pizza - 300\n",
    "\n",
    "if extra cheese for all size pizza - 20\n",
    "\n",
    "extra pepperoni for s/m - 30\n",
    "extra pepperoni for l - 50\n",
    "\n",
    "print(final bill)"
   ]
  },
  {
   "cell_type": "code",
   "execution_count": null,
   "metadata": {},
   "outputs": [],
   "source": [
    "# Type your code here"
   ]
  },
  {
   "cell_type": "markdown",
   "metadata": {},
   "source": [
    "## Love Calculator"
   ]
  },
  {
   "cell_type": "markdown",
   "metadata": {},
   "source": [
    "Get 2 names from user (name1 and name2)\n",
    "\n",
    "T -     L -\n",
    "R -     O - \n",
    "U -     V -\n",
    "E -     E - \n",
    "\n",
    "first need to convert the input into lower case (name.lower())\n",
    "count these letters from both names (name.count('t'))\n",
    "\n",
    "Value should be like this - {(T+R+U+E) (L+O+V+E)%}  43%"
   ]
  },
  {
   "cell_type": "code",
   "execution_count": null,
   "metadata": {},
   "outputs": [],
   "source": [
    "Arivumathi\n",
    "\n",
    "count('a')"
   ]
  }
 ],
 "metadata": {
  "language_info": {
   "name": "python"
  }
 },
 "nbformat": 4,
 "nbformat_minor": 2
}
