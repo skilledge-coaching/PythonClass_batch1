{
 "cells": [
  {
   "cell_type": "code",
   "execution_count": 3,
   "metadata": {},
   "outputs": [
    {
     "name": "stdout",
     "output_type": "stream",
     "text": [
      "0\n",
      "1\n",
      "2\n",
      "3\n",
      "4\n",
      "5\n",
      "6\n",
      "7\n",
      "8\n",
      "9\n",
      "10\n"
     ]
    }
   ],
   "source": [
    "a = 0\n",
    "while a<=10:\n",
    "    print(a)\n",
    "    a = a + 1"
   ]
  },
  {
   "cell_type": "code",
   "execution_count": 4,
   "metadata": {},
   "outputs": [
    {
     "name": "stdout",
     "output_type": "stream",
     "text": [
      "0\n",
      "1\n",
      "2\n",
      "3\n",
      "4\n",
      "5\n",
      "6\n",
      "7\n",
      "8\n",
      "9\n",
      "10\n"
     ]
    }
   ],
   "source": [
    "for a in range(11):\n",
    "    print(a)"
   ]
  },
  {
   "cell_type": "code",
   "execution_count": 6,
   "metadata": {},
   "outputs": [
    {
     "name": "stdout",
     "output_type": "stream",
     "text": [
      "True\n"
     ]
    }
   ],
   "source": [
    "while True:\n",
    "    print(True)"
   ]
  },
  {
   "cell_type": "code",
   "execution_count": 7,
   "metadata": {},
   "outputs": [
    {
     "name": "stdout",
     "output_type": "stream",
     "text": [
      "10\n",
      "9\n",
      "8\n",
      "7\n",
      "6\n",
      "5\n",
      "4\n",
      "3\n",
      "2\n",
      "1\n"
     ]
    }
   ],
   "source": [
    "i = 10\n",
    "while i>0:\n",
    "    print(i)\n",
    "    i = i-1"
   ]
  },
  {
   "cell_type": "code",
   "execution_count": 14,
   "metadata": {},
   "outputs": [
    {
     "name": "stdout",
     "output_type": "stream",
     "text": [
      "6\n"
     ]
    }
   ],
   "source": [
    "i = 3\n",
    "fact = 1\n",
    "while i>0:\n",
    "    fact = fact * i\n",
    "    i = i - 1\n",
    "print(fact)\n"
   ]
  },
  {
   "cell_type": "code",
   "execution_count": 16,
   "metadata": {},
   "outputs": [
    {
     "name": "stdout",
     "output_type": "stream",
     "text": [
      "1\n",
      "Not divisible by 5\n",
      "4\n",
      "Not divisible by 5\n",
      "7\n",
      "Not divisible by 5\n",
      "10\n",
      "10\n",
      "13\n",
      "Not divisible by 5\n"
     ]
    }
   ],
   "source": [
    "x = 15\n",
    "y = 7\n",
    "\n",
    "if (x > y) and (x % 3 == 0):  #15>7 and 15%3 == 0\n",
    "    for i in range(1, x, 3): #range(1,15,3) -- 1, 4, 7, 10, 13\n",
    "        print(i)\n",
    "        if i % 5 == 0:\n",
    "            print(i)\n",
    "        else:\n",
    "            print(\"Not divisible by 5\")\n",
    "elif x == y:\n",
    "    print(\"x and y are equal\")\n",
    "else:\n",
    "    print(\"x is less than y\")"
   ]
  },
  {
   "cell_type": "code",
   "execution_count": 21,
   "metadata": {},
   "outputs": [
    {
     "name": "stdout",
     "output_type": "stream",
     "text": [
      "False\n"
     ]
    }
   ],
   "source": [
    "print(13%5 == 0)"
   ]
  },
  {
   "cell_type": "code",
   "execution_count": 13,
   "metadata": {},
   "outputs": [
    {
     "name": "stdout",
     "output_type": "stream",
     "text": [
      "657\n",
      "7\n",
      "234.658\n",
      "8\n",
      "6\n",
      "245.0\n",
      "3500.0\n",
      "660\n",
      "680\n"
     ]
    }
   ],
   "source": [
    "print(round(657,2))\n",
    "print(round(7,0))\n",
    "print(round(234.6578,3))\n",
    "print(round(7.5))  .6 -- +1  .4 -- same -->.5 8 or 7\n",
    "print(round(6.5))\n",
    "print(round(245.2311,0))\n",
    "\n",
    "print(round(3474.231123, -2)) #10^(no of digits) 10^2 -100\n",
    "print(round(665,-1))\n",
    "print(round(675,-1))"
   ]
  },
  {
   "cell_type": "code",
   "execution_count": 43,
   "metadata": {},
   "outputs": [
    {
     "name": "stdout",
     "output_type": "stream",
     "text": [
      "67.54\n"
     ]
    }
   ],
   "source": [
    "a = 67.5436\n",
    "\n",
    "print(round(a, 2))"
   ]
  },
  {
   "cell_type": "code",
   "execution_count": 18,
   "metadata": {},
   "outputs": [
    {
     "name": "stdout",
     "output_type": "stream",
     "text": [
      "tou have 3 years, 36 months, 156 weeks and 1095 days left\n"
     ]
    }
   ],
   "source": [
    "age = int(input(\"Enter your age: \"))\n",
    "\n",
    "default_year = 90*365\n",
    "default_week = 90*52\n",
    "default_month = 90*12\n",
    "\n",
    "if age == 0 or age < 0:\n",
    "    print(\"Enter a valid age\")\n",
    "elif age<=90:\n",
    "    days =  default_year - (age*365)\n",
    "    months = default_month - (age*12) \n",
    "    week = default_week - (age*52) \n",
    "    year = 90 - age\n",
    "    print(f\"tou have {year} years, {months} months, {week} weeks and {days} days left\")\n",
    "else:\n",
    "    print(\"Enter a valid age\")\n"
   ]
  },
  {
   "cell_type": "code",
   "execution_count": 20,
   "metadata": {},
   "outputs": [
    {
     "name": "stdout",
     "output_type": "stream",
     "text": [
      "This year 2024 is not a leap year\n"
     ]
    }
   ],
   "source": [
    "#leap or not\n",
    "\n",
    "year = int(input(\"Enter a year: \"))\n",
    "\n",
    "if year%4 == 0 and year%100 != 0 and year%400 == 0:\n",
    "    print(f\"This year {year} is leap year\")\n",
    "else:\n",
    "    print(f\"This year {year} is not a leap year\") "
   ]
  },
  {
   "cell_type": "code",
   "execution_count": 30,
   "metadata": {},
   "outputs": [
    {
     "name": "stdout",
     "output_type": "stream",
     "text": [
      "this year 2048 is leap year\n"
     ]
    }
   ],
   "source": [
    "year = int(input(\"Enter a year: \"))\n",
    "\n",
    "if year%4 == 0:\n",
    "    if year%100 != 0:\n",
    "        print(f\"this year {year} is leap year\")\n",
    "    else:\n",
    "        if year%400 == 0:\n",
    "            print(f\"This year {year} is leap year\")\n",
    "else:\n",
    "    print(f\"This is not a leap year\")"
   ]
  },
  {
   "cell_type": "code",
   "execution_count": null,
   "metadata": {},
   "outputs": [],
   "source": [
    "name1 = input(\"Enter your name: \").lower()\n",
    "name2 = input(\"Enter your partner name: \").lower()\n",
    "\n",
    "# print(name1, name2)\n",
    "\n",
    "T = name1.count('t') + name2.count('t')\n",
    "R = name1.count('r') + name2.count('r')\n",
    "U = name1.count('u') + name2.count('u')\n",
    "E = name1.count('e') + name2.count('e')\n",
    "\n",
    "L = name1.count('l') + name2.count('l')\n",
    "O = name1.count('o') + name2.count('o')\n",
    "V = name1.count('v') + name2.count('v')\n",
    "E = name1.count('e') + name2.count('e')\n",
    "\n",
    "print(f\"\"\"\n",
    "      Hey {name1} & {name2}! \n",
    "      Your's Lover percentage is {T+R+U+E}{L+O+V+E} %\"\"\")"
   ]
  },
  {
   "cell_type": "code",
   "execution_count": 41,
   "metadata": {},
   "outputs": [
    {
     "name": "stdout",
     "output_type": "stream",
     "text": [
      "1 \n",
      "1 2 \n",
      "1 2 3 \n",
      "1 2 3 4 \n",
      "1 2 3 4 5 \n"
     ]
    }
   ],
   "source": [
    "a=1\n",
    "while a<=5:  #1,2,3,4,5\n",
    "    b = 1\n",
    "    while b<=a:   #1<=1 1<=2 1<=3 1<=4 1<=5\n",
    "        print(b, end=\" \")\n",
    "        b = b + 1\n",
    "    print()\n",
    "    # print(\"*\")\n",
    "    a=a+1"
   ]
  },
  {
   "cell_type": "markdown",
   "metadata": {},
   "source": [
    "a = 1,2,3,4,5\n",
    "\n",
    "b<=a\n",
    "1<=1  -- 1\n",
    "1<=2  -- 1,2\n",
    "1<=3  -- 1,2,3\n",
    "1<=4  -- 1,2,3,4\n",
    "1<=5  -- 1,2,3,4,5"
   ]
  },
  {
   "cell_type": "code",
   "execution_count": 48,
   "metadata": {},
   "outputs": [
    {
     "name": "stdout",
     "output_type": "stream",
     "text": [
      "arivumathi\n"
     ]
    },
    {
     "data": {
      "text/plain": [
       "2"
      ]
     },
     "execution_count": 48,
     "metadata": {},
     "output_type": "execute_result"
    }
   ],
   "source": [
    "a = \"Arivumathi\"\n",
    "a = a.lower()\n",
    "print(a)\n",
    "\n",
    "a.count('a')"
   ]
  },
  {
   "cell_type": "code",
   "execution_count": 2,
   "metadata": {},
   "outputs": [
    {
     "name": "stdout",
     "output_type": "stream",
     "text": [
      "['apple', 'banana', 'mango']\n"
     ]
    }
   ],
   "source": [
    "fruits = [\"apple\", 'banana','cherry', 'kiwi', 'mango']\n",
    "\n",
    "newlist = [ ]\n",
    "\n",
    "for i in fruits:\n",
    "    if \"a\" in i:\n",
    "        newlist.append(i)\n",
    "\n",
    "print(newlist)"
   ]
  },
  {
   "cell_type": "code",
   "execution_count": 3,
   "metadata": {},
   "outputs": [
    {
     "name": "stdout",
     "output_type": "stream",
     "text": [
      "['apple', 'banana', 'mango']\n"
     ]
    }
   ],
   "source": [
    "newlist1 = [i for i in fruits if \"a\" in i]\n",
    "print(newlist1)"
   ]
  },
  {
   "cell_type": "code",
   "execution_count": 5,
   "metadata": {},
   "outputs": [
    {
     "name": "stdout",
     "output_type": "stream",
     "text": [
      "[0, 2, 4, 6, 8, 10]\n"
     ]
    }
   ],
   "source": [
    "newlist = [i for i in range(11) if i%2 == 0]\n",
    "print(newlist)"
   ]
  },
  {
   "cell_type": "code",
   "execution_count": 7,
   "metadata": {},
   "outputs": [
    {
     "name": "stdout",
     "output_type": "stream",
     "text": [
      "['APPLE', 'BANANA', 'CHERRY', 'KIWI', 'MANGO']\n"
     ]
    }
   ],
   "source": [
    "##Expressions\n",
    "\n",
    "newlist = [x.upper() for x in fruits]\n",
    "print(newlist)"
   ]
  },
  {
   "cell_type": "code",
   "execution_count": 9,
   "metadata": {},
   "outputs": [
    {
     "name": "stdout",
     "output_type": "stream",
     "text": [
      "['hello', 'hello', 'hello', 'hello', 'hello']\n"
     ]
    }
   ],
   "source": [
    "newlist = [\"hello\" for i in range(5)]\n",
    "print(newlist)"
   ]
  },
  {
   "cell_type": "code",
   "execution_count": 11,
   "metadata": {},
   "outputs": [
    {
     "name": "stdout",
     "output_type": "stream",
     "text": [
      "['apple', 'cherry', 'kiwi', 'mango']\n"
     ]
    }
   ],
   "source": [
    "newlist = [x for x in fruits if x!=\"banana\"]\n",
    "print(newlist)"
   ]
  },
  {
   "cell_type": "code",
   "execution_count": 13,
   "metadata": {},
   "outputs": [
    {
     "name": "stdout",
     "output_type": "stream",
     "text": [
      "['apple', 'banana', 'cherry', 'kiwi', 'mango']\n",
      "['apple', 'orange', 'cherry', 'kiwi', 'mango']\n"
     ]
    }
   ],
   "source": [
    "newlist = [x if x!=\"banana\" else \"orange\" for x in fruits]\n",
    "print(fruits)\n",
    "print(newlist)"
   ]
  },
  {
   "cell_type": "code",
   "execution_count": 18,
   "metadata": {},
   "outputs": [
    {
     "name": "stdout",
     "output_type": "stream",
     "text": [
      "['Apple', 'banana', 'cherry', 'Kiwi', 'mango']\n"
     ]
    }
   ],
   "source": [
    "fruits = ['Apple', 'banana', 'cherry', 'Kiwi', 'mango']\n",
    "fruits.sort(key=str.lower)\n",
    "print(fruits) "
   ]
  },
  {
   "cell_type": "code",
   "execution_count": 48,
   "metadata": {},
   "outputs": [
    {
     "name": "stdout",
     "output_type": "stream",
     "text": [
      "['Apple', 'Kiwi', 'banana', 'cherry', 'mango']\n"
     ]
    }
   ],
   "source": [
    "fruits.reverse()\n",
    "print(fruits)"
   ]
  },
  {
   "cell_type": "code",
   "execution_count": 49,
   "metadata": {},
   "outputs": [
    {
     "name": "stdout",
     "output_type": "stream",
     "text": [
      "before ['Apple', 'Kiwi', 'banana', 'cherry', 'mango']\n",
      "['mango', 'cherry', 'banana', 'Kiwi', 'Apple']\n"
     ]
    }
   ],
   "source": [
    "print(\"before\",fruits)\n",
    "\n",
    "fruits.sort(reverse=True)\n",
    "print(fruits)  "
   ]
  },
  {
   "cell_type": "code",
   "execution_count": 57,
   "metadata": {},
   "outputs": [
    {
     "name": "stdout",
     "output_type": "stream",
     "text": [
      "6\n",
      "Hit!\n"
     ]
    }
   ],
   "source": [
    "import random\n",
    "\n",
    "hidden = random.randrange(1, 21)\n",
    "# print(\"The hidden values is\", hidden)\n",
    "\n",
    "user_input = input(\"Please enter your guess: \")\n",
    "print(user_input)\n",
    "\n",
    "guess = int(user_input)\n",
    "\n",
    "if guess == hidden:\n",
    "    print(\"Hit!\")\n",
    "elif guess < hidden:\n",
    "    print(\"Your guess is too low\")\n",
    "else:\n",
    "    print(\"Your guess is too high\")"
   ]
  },
  {
   "cell_type": "code",
   "execution_count": 59,
   "metadata": {},
   "outputs": [
    {
     "name": "stdout",
     "output_type": "stream",
     "text": [
      "{'f', 'u', 'i', 'c', ' ', 'd', 'r', 'j', 'a', 'v', 'h', 'q', 'e', 'n', 'p', 'g'}\n",
      "Number of different characters: 16\n"
     ]
    }
   ],
   "source": [
    "string = \"adnfjruringgjev jnvrufhjcnqifc ndcijincpenvu dncijernnc\"\n",
    "\n",
    "# Convert the string to a set to get unique characters\n",
    "unique_chars = set(string)\n",
    "print(unique_chars)  \n",
    "\n",
    "# Find the number of unique characters\n",
    "num_unique_chars = len(unique_chars)\n",
    "\n",
    "print(\"Number of different characters:\", num_unique_chars)\n"
   ]
  },
  {
   "cell_type": "code",
   "execution_count": 65,
   "metadata": {},
   "outputs": [],
   "source": [
    "fruits.append('avacado')"
   ]
  },
  {
   "cell_type": "code",
   "execution_count": 66,
   "metadata": {},
   "outputs": [
    {
     "name": "stdout",
     "output_type": "stream",
     "text": [
      "Apple\n",
      "avacado\n"
     ]
    }
   ],
   "source": [
    "for i in fruits:\n",
    "    if i[0] == 'a' or i[0] == 'A':\n",
    "        print(i)"
   ]
  },
  {
   "cell_type": "code",
   "execution_count": 67,
   "metadata": {},
   "outputs": [
    {
     "name": "stdout",
     "output_type": "stream",
     "text": [
      "['Apple', 'avacado']\n"
     ]
    }
   ],
   "source": [
    "fruits_starts_A = [i for i in fruits if i[0] == 'a' or i[0] == 'A']\n",
    "print(fruits_starts_A)"
   ]
  },
  {
   "cell_type": "code",
   "execution_count": 69,
   "metadata": {},
   "outputs": [
    {
     "data": {
      "text/plain": [
       "('mango', 'cherry', 'banana', 'Kiwi', 'Apple', 'avacado')"
      ]
     },
     "execution_count": 69,
     "metadata": {},
     "output_type": "execute_result"
    }
   ],
   "source": [
    "fruits1 = tuple(fruits)\n",
    "fruits1"
   ]
  },
  {
   "cell_type": "code",
   "execution_count": 71,
   "metadata": {},
   "outputs": [
    {
     "name": "stdout",
     "output_type": "stream",
     "text": [
      "banana\n"
     ]
    }
   ],
   "source": [
    "print(fruits1[2])"
   ]
  },
  {
   "cell_type": "code",
   "execution_count": 86,
   "metadata": {},
   "outputs": [
    {
     "data": {
      "text/plain": [
       "['mango', 'Kiwi', 'Apple', 'avacado']"
      ]
     },
     "execution_count": 86,
     "metadata": {},
     "output_type": "execute_result"
    }
   ],
   "source": [
    "fruits1 = list(fruits1)\n",
    "fruits1[1] = 'kiwi'\n",
    "fruits1\n",
    "\n",
    "fruits1.remove('kiwi')\n",
    "fruits1"
   ]
  },
  {
   "cell_type": "code",
   "execution_count": 79,
   "metadata": {},
   "outputs": [
    {
     "data": {
      "text/plain": [
       "('mango', 'banana', 'Kiwi', 'Apple', 'avacado')"
      ]
     },
     "execution_count": 79,
     "metadata": {},
     "output_type": "execute_result"
    }
   ],
   "source": [
    "fruits1 = tuple(fruits1)\n",
    "fruits1"
   ]
  },
  {
   "cell_type": "code",
   "execution_count": 99,
   "metadata": {},
   "outputs": [
    {
     "name": "stdout",
     "output_type": "stream",
     "text": [
      "('mango', 'cherry', 'banana', 'Kiwi', 'Apple', 'avacado', 'mango', 'cherry', 'banana', 'Kiwi', 'Apple', 'avacado')\n",
      "2\n",
      "1\n"
     ]
    }
   ],
   "source": [
    "# mytuple = tuple(fruits * 2)\n",
    "\n",
    "# print(mytuple)\n",
    "\n",
    "mytuple1 = tuple(fruits + fruits)\n",
    "print(tuple(mytuple1))\n",
    "print(mytuple1.count('banana'))\n",
    "print(mytuple1.index('cherry'))"
   ]
  },
  {
   "cell_type": "code",
   "execution_count": 128,
   "metadata": {},
   "outputs": [
    {
     "name": "stdout",
     "output_type": "stream",
     "text": [
      "('mango', 'cherry', 'banana', 'Kiwi', 'Apple', 'avacado', 'mango', 'cherry', 'banana', 'Kiwi', 'Apple', 'avacado')\n",
      "('mango', 'Kiwi', 'Apple', 'avacado')\n"
     ]
    }
   ],
   "source": [
    "print(mytuple1)\n",
    "# fruits1 = tuple(fruits1)\n",
    "print(fruits1)\n",
    "\n",
    "# join_tuple = mytuple1.update(fruits1)\n",
    "# print(join_tuple)"
   ]
  },
  {
   "cell_type": "code",
   "execution_count": 101,
   "metadata": {},
   "outputs": [
    {
     "name": "stdout",
     "output_type": "stream",
     "text": [
      "{'mango', 'avacado', 'Apple', 'Kiwi', 'banana', 'cherry'}\n"
     ]
    }
   ],
   "source": [
    "set1 = set(fruits)\n",
    "\n",
    "print(set1)"
   ]
  },
  {
   "cell_type": "code",
   "execution_count": 110,
   "metadata": {},
   "outputs": [
    {
     "data": {
      "text/plain": [
       "{'Apple', 'Kiwi', 'avacado', 'banana', 'cherry', 'mango'}"
      ]
     },
     "execution_count": 110,
     "metadata": {},
     "output_type": "execute_result"
    }
   ],
   "source": [
    "set1"
   ]
  },
  {
   "cell_type": "code",
   "execution_count": 120,
   "metadata": {},
   "outputs": [],
   "source": [
    "set1 = {'apple', True, 67, 54, 'veg', 'non-veg', 1, 0}"
   ]
  },
  {
   "cell_type": "code",
   "execution_count": 121,
   "metadata": {},
   "outputs": [
    {
     "data": {
      "text/plain": [
       "{0, 54, 67, True, 'apple', 'non-veg', 'veg'}"
      ]
     },
     "execution_count": 121,
     "metadata": {},
     "output_type": "execute_result"
    }
   ],
   "source": [
    "set1"
   ]
  },
  {
   "cell_type": "code",
   "execution_count": 132,
   "metadata": {},
   "outputs": [
    {
     "name": "stdout",
     "output_type": "stream",
     "text": [
      "{0, 'veg', 67, 'apple', 54, 'non-veg'}\n"
     ]
    }
   ],
   "source": [
    "set1\n",
    "\n",
    "# set1.remove(True)\n",
    "print(set1)"
   ]
  },
  {
   "cell_type": "code",
   "execution_count": 133,
   "metadata": {},
   "outputs": [],
   "source": [
    "set1.discard(67)"
   ]
  },
  {
   "cell_type": "code",
   "execution_count": 134,
   "metadata": {},
   "outputs": [
    {
     "data": {
      "text/plain": [
       "{0, 54, 'apple', 'non-veg', 'veg'}"
      ]
     },
     "execution_count": 134,
     "metadata": {},
     "output_type": "execute_result"
    }
   ],
   "source": [
    "set1"
   ]
  },
  {
   "cell_type": "code",
   "execution_count": 135,
   "metadata": {},
   "outputs": [],
   "source": [
    "thedict = {'name':\"arivu\", 'age':23, 'course':'Python'}"
   ]
  },
  {
   "cell_type": "code",
   "execution_count": 136,
   "metadata": {},
   "outputs": [
    {
     "name": "stdout",
     "output_type": "stream",
     "text": [
      "arivu\n"
     ]
    }
   ],
   "source": [
    "print(thedict['name'])"
   ]
  },
  {
   "cell_type": "code",
   "execution_count": 137,
   "metadata": {},
   "outputs": [
    {
     "name": "stdout",
     "output_type": "stream",
     "text": [
      "{'brand': 'Ford', 'electric': False, 'year': 1964, 'colors': ['red', 'white', 'blue']}\n"
     ]
    }
   ],
   "source": [
    "# other ways\n",
    "\n",
    "dict1 = dict(brand = 'Ford', electric = False, year = 1964, colors = ['red', 'white', 'blue'])\n",
    "print(dict1)"
   ]
  },
  {
   "cell_type": "code",
   "execution_count": 138,
   "metadata": {},
   "outputs": [
    {
     "name": "stdout",
     "output_type": "stream",
     "text": [
      "['red', 'white', 'blue']\n"
     ]
    }
   ],
   "source": [
    "x = dict1.get('colors')\n",
    "print(x)"
   ]
  },
  {
   "cell_type": "code",
   "execution_count": 139,
   "metadata": {},
   "outputs": [
    {
     "name": "stdout",
     "output_type": "stream",
     "text": [
      "dict_keys(['brand', 'electric', 'year', 'colors'])\n"
     ]
    }
   ],
   "source": [
    "print(dict1.keys())"
   ]
  },
  {
   "cell_type": "code",
   "execution_count": 140,
   "metadata": {},
   "outputs": [
    {
     "name": "stdout",
     "output_type": "stream",
     "text": [
      "{'brand': 'Ford', 'electric': False, 'year': 1964, 'colors': ['red', 'white', 'blue'], 'launch': 2024}\n"
     ]
    }
   ],
   "source": [
    "#add new items\n",
    "\n",
    "dict1['launch'] = 2024\n",
    "print(dict1)"
   ]
  },
  {
   "cell_type": "code",
   "execution_count": 141,
   "metadata": {},
   "outputs": [
    {
     "name": "stdout",
     "output_type": "stream",
     "text": [
      "dict_values(['Ford', False, 1964, ['red', 'white', 'blue'], 2024])\n"
     ]
    }
   ],
   "source": [
    "#values()\n",
    "\n",
    "print(dict1.values())"
   ]
  },
  {
   "cell_type": "code",
   "execution_count": 142,
   "metadata": {},
   "outputs": [
    {
     "name": "stdout",
     "output_type": "stream",
     "text": [
      "dict_items([('brand', 'Ford'), ('electric', False), ('year', 1964), ('colors', ['red', 'white', 'blue']), ('launch', 2024)])\n"
     ]
    }
   ],
   "source": [
    "#items()\n",
    "\n",
    "print(dict1.items())"
   ]
  },
  {
   "cell_type": "code",
   "execution_count": 143,
   "metadata": {},
   "outputs": [
    {
     "name": "stdout",
     "output_type": "stream",
     "text": [
      "{'brand': 'Ford', 'electric': False, 'year': 1965, 'colors': ['red', 'white', 'blue'], 'launch': 2024}\n"
     ]
    }
   ],
   "source": [
    "#update()\n",
    "\n",
    "dict1.update({'year': 1965})\n",
    "print(dict1)"
   ]
  },
  {
   "cell_type": "code",
   "execution_count": 144,
   "metadata": {},
   "outputs": [
    {
     "ename": "TypeError",
     "evalue": "pop expected at least 1 argument, got 0",
     "output_type": "error",
     "traceback": [
      "\u001b[1;31m---------------------------------------------------------------------------\u001b[0m",
      "\u001b[1;31mTypeError\u001b[0m                                 Traceback (most recent call last)",
      "Cell \u001b[1;32mIn[144], line 5\u001b[0m\n\u001b[0;32m      1\u001b[0m \u001b[38;5;66;03m#remove items\u001b[39;00m\n\u001b[0;32m      2\u001b[0m \n\u001b[0;32m      3\u001b[0m \u001b[38;5;66;03m# pop()\u001b[39;00m\n\u001b[1;32m----> 5\u001b[0m \u001b[43mdict1\u001b[49m\u001b[38;5;241;43m.\u001b[39;49m\u001b[43mpop\u001b[49m\u001b[43m(\u001b[49m\u001b[43m)\u001b[49m\n\u001b[0;32m      6\u001b[0m \u001b[38;5;28mprint\u001b[39m(dict1)\n",
      "\u001b[1;31mTypeError\u001b[0m: pop expected at least 1 argument, got 0"
     ]
    }
   ],
   "source": [
    "#remove items\n",
    "\n",
    "# pop()\n",
    "\n",
    "dict1.pop()\n",
    "print(dict1)"
   ]
  },
  {
   "cell_type": "code",
   "execution_count": 145,
   "metadata": {},
   "outputs": [
    {
     "name": "stdout",
     "output_type": "stream",
     "text": [
      "{'brand': 'Ford', 'electric': False, 'year': 1965, 'colors': ['red', 'white', 'blue']}\n"
     ]
    }
   ],
   "source": [
    "dict1.pop('launch')\n",
    "print(dict1)"
   ]
  },
  {
   "cell_type": "code",
   "execution_count": 146,
   "metadata": {},
   "outputs": [
    {
     "name": "stdout",
     "output_type": "stream",
     "text": [
      "{'brand': 'Ford', 'electric': False, 'year': 1965, 'colors': ['red', 'white', 'blue'], 'item': 4}\n"
     ]
    }
   ],
   "source": [
    "dict1['item'] = 4\n",
    "print(dict1)"
   ]
  },
  {
   "cell_type": "code",
   "execution_count": 147,
   "metadata": {},
   "outputs": [
    {
     "name": "stdout",
     "output_type": "stream",
     "text": [
      "{'brand': 'Ford', 'electric': False, 'year': 1965, 'colors': ['red', 'white', 'blue']}\n"
     ]
    }
   ],
   "source": [
    "dict1.popitem()\n",
    "print(dict1)"
   ]
  },
  {
   "cell_type": "code",
   "execution_count": 165,
   "metadata": {},
   "outputs": [
    {
     "name": "stdout",
     "output_type": "stream",
     "text": [
      "{'b': None, 'r': None, 'a': None, 'n': None, 'd': None}\n"
     ]
    }
   ],
   "source": []
  },
  {
   "cell_type": "code",
   "execution_count": 148,
   "metadata": {},
   "outputs": [
    {
     "name": "stdout",
     "output_type": "stream",
     "text": [
      "brand\n",
      "electric\n",
      "year\n",
      "colors\n"
     ]
    }
   ],
   "source": [
    "for i in dict1:\n",
    "    print(i)"
   ]
  },
  {
   "cell_type": "code",
   "execution_count": 149,
   "metadata": {},
   "outputs": [
    {
     "name": "stdout",
     "output_type": "stream",
     "text": [
      "Ford\n",
      "False\n",
      "1965\n",
      "['red', 'white', 'blue']\n"
     ]
    }
   ],
   "source": [
    "for i in dict1:\n",
    "    print(dict1[i])"
   ]
  },
  {
   "cell_type": "code",
   "execution_count": 150,
   "metadata": {},
   "outputs": [
    {
     "name": "stdout",
     "output_type": "stream",
     "text": [
      "Ford\n",
      "False\n",
      "1965\n",
      "['red', 'white', 'blue']\n"
     ]
    }
   ],
   "source": [
    "for i in dict1.values():\n",
    "    print(i)\n",
    "\n",
    "# print(dict1.values())"
   ]
  },
  {
   "cell_type": "code",
   "execution_count": 151,
   "metadata": {},
   "outputs": [
    {
     "name": "stdout",
     "output_type": "stream",
     "text": [
      "brand\n",
      "electric\n",
      "year\n",
      "colors\n"
     ]
    }
   ],
   "source": [
    "for i in dict1.keys():\n",
    "    print(i)\n"
   ]
  },
  {
   "cell_type": "code",
   "execution_count": 153,
   "metadata": {},
   "outputs": [
    {
     "name": "stdout",
     "output_type": "stream",
     "text": [
      "brand Ford\n",
      "electric False\n",
      "year 1965\n",
      "colors ['red', 'white', 'blue']\n"
     ]
    }
   ],
   "source": [
    "for i,j in dict1.items():\n",
    "    print(i,j)"
   ]
  },
  {
   "cell_type": "code",
   "execution_count": 154,
   "metadata": {},
   "outputs": [
    {
     "name": "stdout",
     "output_type": "stream",
     "text": [
      "{'brand': 'Ford', 'electric': False, 'year': 1965, 'colors': ['red', 'white', 'blue']}\n"
     ]
    }
   ],
   "source": [
    "dict = dict1.copy()\n",
    "print(dict)"
   ]
  },
  {
   "cell_type": "code",
   "execution_count": 158,
   "metadata": {},
   "outputs": [
    {
     "name": "stdout",
     "output_type": "stream",
     "text": [
      "{'child1': {'name': 'Emil', 'year': 2004}, 'child2': {'name': 'Tobias', 'year': 2007}, 'child3': {'name': 'Linus', 'year': 2011}}\n"
     ]
    }
   ],
   "source": [
    "#nested dictionary\n",
    "\n",
    "myfamily = {\n",
    "  \"child1\" : {\n",
    "    \"name\" : \"Emil\",\n",
    "    \"year\" : 2004\n",
    "  },\n",
    "  \"child2\" : {\n",
    "    \"name\" : \"Tobias\",\n",
    "    \"year\" : 2007\n",
    "  },\n",
    "  \"child3\" : {\n",
    "    \"name\" : \"Linus\",\n",
    "    \"year\" : 2011\n",
    "  }\n",
    "}\n",
    "\n",
    "print(myfamily)"
   ]
  },
  {
   "cell_type": "code",
   "execution_count": 5,
   "metadata": {},
   "outputs": [
    {
     "name": "stdout",
     "output_type": "stream",
     "text": [
      "{'child1': {'name': 'Emil', 'year': 2004}, 'child2': {'name': 'Tobias', 'year': 2007}, 'child3': {'name': 'Linus', 'year': 2011}}\n"
     ]
    }
   ],
   "source": [
    "child1 = {\n",
    "  \"name\" : \"Emil\",\n",
    "  \"year\" : 2004\n",
    "}\n",
    "child2 = {\n",
    "  \"name\" : \"Tobias\",\n",
    "  \"year\" : 2007\n",
    "}\n",
    "child3 = {\n",
    "  \"name\" : \"Linus\",\n",
    "  \"year\" : 2011\n",
    "}\n",
    "\n",
    "myfamily = {\n",
    "  \"child1\" : child1,\n",
    "  \"child2\" : child2,\n",
    "  \"child3\" : child3\n",
    "}\n",
    "\n",
    "print(myfamily)"
   ]
  },
  {
   "cell_type": "code",
   "execution_count": 160,
   "metadata": {},
   "outputs": [
    {
     "name": "stdout",
     "output_type": "stream",
     "text": [
      "Tobias\n"
     ]
    }
   ],
   "source": [
    "print(myfamily[\"child2\"][\"name\"])"
   ]
  },
  {
   "cell_type": "code",
   "execution_count": 10,
   "metadata": {},
   "outputs": [
    {
     "name": "stdout",
     "output_type": "stream",
     "text": [
      "child1\n",
      "name: Emil\n",
      "year: 2004\n",
      "child2\n",
      "name: Tobias\n",
      "year: 2007\n",
      "child3\n",
      "name: Linus\n",
      "year: 2011\n"
     ]
    }
   ],
   "source": [
    "for x, obj in myfamily.items():\n",
    "  print(x)\n",
    "\n",
    "  for y in obj:\n",
    "    # print(y)\n",
    "    print(y + ':', obj[y])"
   ]
  },
  {
   "cell_type": "code",
   "execution_count": 169,
   "metadata": {},
   "outputs": [],
   "source": [
    "def arg():\n",
    "    a = 9\n",
    "    b = 8\n",
    "    return a + b\n",
    "\n",
    "c = arg()\n",
    "# print(c)"
   ]
  },
  {
   "cell_type": "code",
   "execution_count": 179,
   "metadata": {},
   "outputs": [
    {
     "name": "stdout",
     "output_type": "stream",
     "text": [
      "17\n",
      "None\n"
     ]
    }
   ],
   "source": [
    "def arg():\n",
    "    a = 9\n",
    "    b = 8\n",
    "    print(a + b)\n",
    "\n",
    "c = arg()\n",
    "print(c)"
   ]
  },
  {
   "attachments": {
    "image.png": {
     "image/png": "[encoded data removed]"
    }
   },
   "cell_type": "markdown",
   "metadata": {},
   "source": [
    "![image.png](attachment:image.png)"
   ]
  },
  {
   "cell_type": "code",
   "execution_count": 181,
   "metadata": {},
   "outputs": [
    {
     "name": "stdout",
     "output_type": "stream",
     "text": [
      "62\n",
      "621\n"
     ]
    }
   ],
   "source": [
    "def add_numbers(*args):\n",
    "    \"\"\"Return the sum of all numbers in the input arguments.\"\"\"\n",
    "    total = sum(args)\n",
    "    print(total)\n",
    "\n",
    "add_numbers(2,5,7,9,39)\n",
    "add_numbers(45,89,334,54,21,78)"
   ]
  },
  {
   "cell_type": "code",
   "execution_count": 185,
   "metadata": {},
   "outputs": [
    {
     "name": "stdout",
     "output_type": "stream",
     "text": [
      "name:Arivu\n",
      "age:23\n",
      "city:Thiruvarur\n"
     ]
    }
   ],
   "source": [
    "def print_info(**kwargs):\n",
    "    for key, value in kwargs.items():\n",
    "        print(f\"{key}:{value}\")\n",
    "\n",
    "print_info(name='Arivu', age= 23, city='Thiruvarur')"
   ]
  },
  {
   "cell_type": "code",
   "execution_count": 186,
   "metadata": {},
   "outputs": [
    {
     "name": "stdout",
     "output_type": "stream",
     "text": [
      "Arivu\n",
      "23\n",
      "Thiruvarur\n"
     ]
    }
   ],
   "source": [
    "def print_info(**kwargs):\n",
    "    for value in kwargs.values():\n",
    "        print(value)\n",
    "\n",
    "print_info(name='Arivu', age= 23, city='Thiruvarur')"
   ]
  },
  {
   "cell_type": "code",
   "execution_count": 187,
   "metadata": {},
   "outputs": [
    {
     "name": "stdout",
     "output_type": "stream",
     "text": [
      "name\n",
      "age\n",
      "city\n"
     ]
    }
   ],
   "source": [
    "def print_info(**kwargs):\n",
    "    for key in kwargs.keys():\n",
    "        print(key)\n",
    "\n",
    "print_info(name='Arivu', age= 23, city='Thiruvarur')"
   ]
  },
  {
   "cell_type": "code",
   "execution_count": 191,
   "metadata": {},
   "outputs": [
    {
     "name": "stdout",
     "output_type": "stream",
     "text": [
      "\n",
      "\n",
      "Recursion Example Results\n",
      "1\n",
      "3\n",
      "6\n",
      "10\n"
     ]
    },
    {
     "data": {
      "text/plain": [
       "10"
      ]
     },
     "execution_count": 191,
     "metadata": {},
     "output_type": "execute_result"
    }
   ],
   "source": [
    "def tri_recursion(k):\n",
    "  if(k > 0):\n",
    "    result = k + tri_recursion(k - 1)\n",
    "    print(result)\n",
    "  else:\n",
    "    result = 0\n",
    "  return result\n",
    "\n",
    "print(\"\\n\\nRecursion Example Results\")\n",
    "tri_recursion(4)"
   ]
  },
  {
   "cell_type": "code",
   "execution_count": 192,
   "metadata": {},
   "outputs": [
    {
     "name": "stdout",
     "output_type": "stream",
     "text": [
      "20\n"
     ]
    }
   ],
   "source": [
    "x = lambda a : a + 10\n",
    "print(x(10))"
   ]
  },
  {
   "cell_type": "code",
   "execution_count": 196,
   "metadata": {},
   "outputs": [
    {
     "name": "stdout",
     "output_type": "stream",
     "text": [
      "60\n"
     ]
    }
   ],
   "source": [
    "def myfun(n):\n",
    "    return lambda a: a*n\n",
    "\n",
    "a = myfun(6)\n",
    "print(a(10))  # Outputs: 50"
   ]
  },
  {
   "cell_type": "code",
   "execution_count": 12,
   "metadata": {},
   "outputs": [],
   "source": [
    "def my_fun():\n",
    "    def my_age():\n",
    "        pass"
   ]
  },
  {
   "cell_type": "markdown",
   "metadata": {},
   "source": [
    "Inheritance is an important aspect of the object-oriented paradigm. Inheritance provides code reusability to the program because we can use an existing class to create a new class instead of creating it from scratch.\n",
    "\n",
    "In inheritance, the child class acquires the properties and can access all the data members and functions defined in the parent class. A child class can also provide its specific implementation to the functions of the parent class."
   ]
  },
  {
   "cell_type": "markdown",
   "metadata": {},
   "source": [
    "You don’t have to call the __init__ method explicitly. It is automatically invoked when an object of the class is instantiated."
   ]
  },
  {
   "cell_type": "code",
   "execution_count": 1,
   "metadata": {},
   "outputs": [],
   "source": [
    "class opp:\n",
    "    def fun(self):\n",
    "        a = 10\n",
    "        b = 5\n",
    "        self.a = a\n",
    "        self.b = b\n",
    "\n",
    "class child(opp):\n",
    "    def fun1(self):\n",
    "        self.fun()\n",
    "        c = self.a + self.b\n",
    "        print(c)\n",
    "        "
   ]
  },
  {
   "cell_type": "code",
   "execution_count": 2,
   "metadata": {},
   "outputs": [
    {
     "name": "stdout",
     "output_type": "stream",
     "text": [
      "15\n"
     ]
    }
   ],
   "source": [
    "add = child()\n",
    "add.fun1()"
   ]
  },
  {
   "cell_type": "code",
   "execution_count": 3,
   "metadata": {},
   "outputs": [],
   "source": [
    "class child:\n",
    "    def __init__(self):\n",
    "        a = 10\n",
    "        b = 90\n",
    "        print(a+b)"
   ]
  },
  {
   "cell_type": "code",
   "execution_count": 4,
   "metadata": {},
   "outputs": [
    {
     "name": "stdout",
     "output_type": "stream",
     "text": [
      "100\n"
     ]
    }
   ],
   "source": [
    "c = child()"
   ]
  },
  {
   "cell_type": "code",
   "execution_count": 6,
   "metadata": {},
   "outputs": [],
   "source": [
    "class Car:\n",
    "    def __init__(self, brand, model):\n",
    "        self.brand = brand  # Initialize the 'brand' attribute\n",
    "        self.model = model  # Initialize the 'model' attribute\n",
    "\n",
    "# Creating an object of the class Car\n",
    "car1 = Car(\"Toyota\", \"Corolla\")\n",
    "\n",
    "# # Accessing attributes\n",
    "# print(car1.brand)  # Output: Toyota\n",
    "# print(car1.model)  # Output: Corolla\n"
   ]
  },
  {
   "cell_type": "code",
   "execution_count": 7,
   "metadata": {},
   "outputs": [],
   "source": [
    "class Car:\n",
    "    def __init__(self, brand, model):\n",
    "        print(brand, model)"
   ]
  },
  {
   "cell_type": "code",
   "execution_count": 8,
   "metadata": {},
   "outputs": [
    {
     "name": "stdout",
     "output_type": "stream",
     "text": [
      "Toyota Corolla\n"
     ]
    }
   ],
   "source": [
    "car1 = Car(\"Toyota\", \"Corolla\")"
   ]
  },
  {
   "cell_type": "code",
   "execution_count": 13,
   "metadata": {},
   "outputs": [
    {
     "ename": "AttributeError",
     "evalue": "'company' object has no attribute '__companyname'",
     "output_type": "error",
     "traceback": [
      "\u001b[1;31m---------------------------------------------------------------------------\u001b[0m",
      "\u001b[1;31mAttributeError\u001b[0m                            Traceback (most recent call last)",
      "Cell \u001b[1;32mIn[13], line 7\u001b[0m\n\u001b[0;32m      5\u001b[0m c2 \u001b[38;5;241m=\u001b[39m company()\n\u001b[0;32m      6\u001b[0m \u001b[38;5;66;03m# c2.companyname = \"Google\"\u001b[39;00m\n\u001b[1;32m----> 7\u001b[0m \u001b[38;5;28mprint\u001b[39m(\u001b[43mc2\u001b[49m\u001b[38;5;241;43m.\u001b[39;49m\u001b[43m__companyname\u001b[49m)\n",
      "\u001b[1;31mAttributeError\u001b[0m: 'company' object has no attribute '__companyname'"
     ]
    }
   ],
   "source": [
    "class company:\n",
    "    def __init__(self):\n",
    "        self.__companyname = \"SkillEdge_Coaching\"\n",
    "\n",
    "c2 = company()\n",
    "# c2.companyname = \"Google\"\n",
    "print(c2.__companyname)"
   ]
  },
  {
   "cell_type": "code",
   "execution_count": 22,
   "metadata": {},
   "outputs": [
    {
     "name": "stdout",
     "output_type": "stream",
     "text": [
      "google\n"
     ]
    }
   ],
   "source": [
    "class company:\n",
    "    def __init__(self):\n",
    "        self.companyname = \"SkillEdge_Coaching\"\n",
    "\n",
    "c = company()\n",
    "c.companyname = \"google\"\n",
    "print(c.companyname)  # Output: google"
   ]
  },
  {
   "cell_type": "code",
   "execution_count": 21,
   "metadata": {},
   "outputs": [
    {
     "name": "stdout",
     "output_type": "stream",
     "text": [
      "Skill\n"
     ]
    }
   ],
   "source": [
    "class company:\n",
    "    def __init__(self):\n",
    "        self.__companyname = \"SkillEdge_Coaching\"\n",
    "    \n",
    "    def companyname(self):\n",
    "        self.__companyname = \"Skill\"\n",
    "        print(self.__companyname)\n",
    "\n",
    "c = company()\n",
    "c.companyname()\n",
    "# print(c.__companyname)"
   ]
  },
  {
   "cell_type": "code",
   "execution_count": 19,
   "metadata": {},
   "outputs": [
    {
     "name": "stdout",
     "output_type": "stream",
     "text": [
      "SkillEdge_Coaching\n"
     ]
    }
   ],
   "source": [
    "class company:\n",
    "    def __init__(self):\n",
    "        self.__companyname = \"SkillEdge_Coaching\"\n",
    "    \n",
    "    def companyname(self):\n",
    "        print(self.__companyname)\n",
    "\n",
    "class company1(company):\n",
    "    def fun(self):\n",
    "        self.companyname()\n",
    "        # print(self.__companyname)\n",
    "\n",
    "c = company1()\n",
    "c.fun()"
   ]
  },
  {
   "cell_type": "code",
   "execution_count": 10,
   "metadata": {},
   "outputs": [
    {
     "name": "stdout",
     "output_type": "stream",
     "text": [
      "SkillEdge_Coaching\n"
     ]
    }
   ],
   "source": [
    "class company:\n",
    "    def __init__(self):\n",
    "        self._companyname = \"SkillEdge_Coaching\"\n",
    "    \n",
    "    def companyname(self):\n",
    "        print(self._companyname)\n",
    "\n",
    "c1 = company()\n",
    "print(c1._companyname)\n"
   ]
  },
  {
   "cell_type": "code",
   "execution_count": 1,
   "metadata": {},
   "outputs": [
    {
     "name": "stdout",
     "output_type": "stream",
     "text": [
      "40\n"
     ]
    }
   ],
   "source": [
    "a = [6,7,8,9,2,3,5]\n",
    "\n",
    "sum = 0\n",
    "for i in a:\n",
    "    sum = sum + i\n",
    "print(sum)"
   ]
  },
  {
   "cell_type": "code",
   "execution_count": 3,
   "metadata": {},
   "outputs": [
    {
     "name": "stdout",
     "output_type": "stream",
     "text": [
      "130\n"
     ]
    }
   ],
   "source": [
    "class load:\n",
    "    def multiple(self, *a):\n",
    "        sum = 0\n",
    "        for i in a :\n",
    "            sum = sum+i\n",
    "        print(sum)\n",
    "\n",
    "add = load()\n",
    "add.multiple(34,56,2,3,1,4,6,7,8,9)"
   ]
  },
  {
   "cell_type": "code",
   "execution_count": 28,
   "metadata": {},
   "outputs": [
    {
     "name": "stdout",
     "output_type": "stream",
     "text": [
      "Hello, world!\n"
     ]
    }
   ],
   "source": [
    "f = open(\"demofile.txt\", 'r')\n",
    "content = f.read()\n",
    "print(content)"
   ]
  },
  {
   "cell_type": "code",
   "execution_count": 29,
   "metadata": {},
   "outputs": [
    {
     "ename": "UnsupportedOperation",
     "evalue": "not writable",
     "output_type": "error",
     "traceback": [
      "\u001b[1;31m---------------------------------------------------------------------------\u001b[0m",
      "\u001b[1;31mUnsupportedOperation\u001b[0m                      Traceback (most recent call last)",
      "Cell \u001b[1;32mIn[29], line 1\u001b[0m\n\u001b[1;32m----> 1\u001b[0m \u001b[43mf\u001b[49m\u001b[38;5;241;43m.\u001b[39;49m\u001b[43mwrite\u001b[49m\u001b[43m(\u001b[49m\u001b[38;5;124;43m\"\u001b[39;49m\u001b[38;5;124;43mwelcome\u001b[39;49m\u001b[38;5;124;43m\"\u001b[39;49m\u001b[43m)\u001b[49m\n",
      "\u001b[1;31mUnsupportedOperation\u001b[0m: not writable"
     ]
    }
   ],
   "source": [
    "f.write(\"welcome\")"
   ]
  },
  {
   "cell_type": "code",
   "execution_count": 30,
   "metadata": {},
   "outputs": [
    {
     "name": "stdout",
     "output_type": "stream",
     "text": [
      "<_io.TextIOWrapper name='demofile.txt' mode='r' encoding='cp1252'>\n"
     ]
    }
   ],
   "source": [
    "print(f)"
   ]
  },
  {
   "cell_type": "code",
   "execution_count": 35,
   "metadata": {},
   "outputs": [],
   "source": [
    "f =open(\"demofile.txt\", \"w\")\n",
    "f.write(\"Hello, world!\\n\")\n",
    "f.write(\"Wlcome\")\n",
    "f.close()\n",
    "# print(f.read())"
   ]
  },
  {
   "cell_type": "code",
   "execution_count": 36,
   "metadata": {},
   "outputs": [
    {
     "data": {
      "text/plain": [
       "'Hello, world!\\nWlcome'"
      ]
     },
     "execution_count": 36,
     "metadata": {},
     "output_type": "execute_result"
    }
   ],
   "source": [
    "f = open(\"demofile.txt\", 'r')\n",
    "f.read()"
   ]
  },
  {
   "cell_type": "code",
   "execution_count": 39,
   "metadata": {},
   "outputs": [
    {
     "data": {
      "text/plain": [
       "' world!\\nWlcome'"
      ]
     },
     "execution_count": 39,
     "metadata": {},
     "output_type": "execute_result"
    }
   ],
   "source": [
    "f = open(\"demofile.txt\", \"r+\")\n"
   ]
  },
  {
   "cell_type": "code",
   "execution_count": null,
   "metadata": {},
   "outputs": [],
   "source": []
  },
  {
   "cell_type": "code",
   "execution_count": 65,
   "metadata": {},
   "outputs": [
    {
     "name": "stdout",
     "output_type": "stream",
     "text": [
      "hello world\n",
      "\n"
     ]
    }
   ],
   "source": [
    "temple = open(\"demofile.txt\", \"r\")\n",
    "print(temple.readline())"
   ]
  },
  {
   "cell_type": "code",
   "execution_count": 68,
   "metadata": {},
   "outputs": [
    {
     "name": "stdout",
     "output_type": "stream",
     "text": [
      "hello world\n",
      "\n",
      "welcome\n",
      "\n",
      "hi\n",
      "\n",
      "python\n",
      "\n"
     ]
    },
    {
     "ename": "ValueError",
     "evalue": "I/O operation on closed file.",
     "output_type": "error",
     "traceback": [
      "\u001b[1;31m---------------------------------------------------------------------------\u001b[0m",
      "\u001b[1;31mValueError\u001b[0m                                Traceback (most recent call last)",
      "Cell \u001b[1;32mIn[68], line 6\u001b[0m\n\u001b[0;32m      3\u001b[0m     \u001b[38;5;28mprint\u001b[39m(x)\n\u001b[0;32m      5\u001b[0m temple\u001b[38;5;241m.\u001b[39mclose()\n\u001b[1;32m----> 6\u001b[0m \u001b[43mtemple\u001b[49m\u001b[38;5;241;43m.\u001b[39;49m\u001b[43mread\u001b[49m\u001b[43m(\u001b[49m\u001b[43m)\u001b[49m\n",
      "\u001b[1;31mValueError\u001b[0m: I/O operation on closed file."
     ]
    }
   ],
   "source": [
    "temple = open(\"demofile.txt\", \"r\")\n",
    "for x in temple:\n",
    "    print(x)\n",
    "\n",
    "temple.close()\n",
    "temple.read()"
   ]
  },
  {
   "cell_type": "code",
   "execution_count": 70,
   "metadata": {},
   "outputs": [],
   "source": [
    "f = open(\"demofile.txt\", \"a\")\n",
    "f.write(\"Master Python course\")\n",
    "f.close()"
   ]
  },
  {
   "cell_type": "code",
   "execution_count": 71,
   "metadata": {},
   "outputs": [],
   "source": [
    "f = open(\"demofile.txt\", 'w')\n",
    "f.write(\"Hello, world!\")\n",
    "f.close()"
   ]
  },
  {
   "cell_type": "code",
   "execution_count": 72,
   "metadata": {},
   "outputs": [],
   "source": [
    "f = open(\"myfile.txt\", \"x\")\n"
   ]
  },
  {
   "cell_type": "code",
   "execution_count": 73,
   "metadata": {},
   "outputs": [],
   "source": [
    "f = open(\"myfile.txt\", 'w')\n",
    "f.write(\"Hello, world!\")\n",
    "f.close()"
   ]
  },
  {
   "cell_type": "code",
   "execution_count": 74,
   "metadata": {},
   "outputs": [],
   "source": [
    "import os"
   ]
  },
  {
   "cell_type": "code",
   "execution_count": 75,
   "metadata": {},
   "outputs": [
    {
     "name": "stdout",
     "output_type": "stream",
     "text": [
      "['addfunction.py', 'Assignment1.ipynb', 'DataStructures', 'datastructure_task.ipynb', 'demo.ipynb', 'demofile.txt', 'functions.ipynb', 'Jump_statement.ipynb', 'Lambda.ipynb', 'Loops', 'myfile.txt', 'OOPs', 'PythonClass_batch1', 'sample.ipynb', 'syntax-operator-controlflow']\n"
     ]
    }
   ],
   "source": [
    "print(os.listdir('.')) -- #list files in current directory"
   ]
  },
  {
   "cell_type": "code",
   "execution_count": 76,
   "metadata": {},
   "outputs": [
    {
     "name": "stdout",
     "output_type": "stream",
     "text": [
      "c:\\Users\\Sridevi\\OneDrive\\Python Class\\python\n"
     ]
    }
   ],
   "source": [
    "print(os.getcwd()) #-- current working directory"
   ]
  },
  {
   "cell_type": "code",
   "execution_count": 77,
   "metadata": {},
   "outputs": [],
   "source": [
    "os.mkdir(\"test_dir\")"
   ]
  },
  {
   "cell_type": "code",
   "execution_count": 78,
   "metadata": {},
   "outputs": [],
   "source": [
    "os.rmdir(\"test_dir\")"
   ]
  },
  {
   "cell_type": "code",
   "execution_count": null,
   "metadata": {},
   "outputs": [],
   "source": []
  },
  {
   "cell_type": "code",
   "execution_count": 79,
   "metadata": {},
   "outputs": [],
   "source": [
    "os.remove(\"myfile.txt\")"
   ]
  },
  {
   "cell_type": "code",
   "execution_count": 81,
   "metadata": {},
   "outputs": [
    {
     "data": {
      "text/plain": [
       "True"
      ]
     },
     "execution_count": 81,
     "metadata": {},
     "output_type": "execute_result"
    }
   ],
   "source": [
    "os.path.exists(\"demofile.txt\")"
   ]
  },
  {
   "cell_type": "code",
   "execution_count": 32,
   "metadata": {},
   "outputs": [
    {
     "ename": "TypeError",
     "evalue": "unsupported operand type(s) for +: 'int' and 'str'",
     "output_type": "error",
     "traceback": [
      "\u001b[1;31m---------------------------------------------------------------------------\u001b[0m",
      "\u001b[1;31mTypeError\u001b[0m                                 Traceback (most recent call last)",
      "Cell \u001b[1;32mIn[32], line 1\u001b[0m\n\u001b[1;32m----> 1\u001b[0m \u001b[38;5;28mprint\u001b[39m(\u001b[38;5;241;43m2\u001b[39;49m\u001b[38;5;241;43m+\u001b[39;49m\u001b[38;5;124;43m\"\u001b[39;49m\u001b[38;5;124;43marivu\u001b[39;49m\u001b[38;5;124;43m\"\u001b[39;49m)\n",
      "\u001b[1;31mTypeError\u001b[0m: unsupported operand type(s) for +: 'int' and 'str'"
     ]
    }
   ],
   "source": [
    "print(2+\"arivu\")"
   ]
  },
  {
   "cell_type": "code",
   "execution_count": 82,
   "metadata": {},
   "outputs": [
    {
     "data": {
      "text/plain": [
       "True"
      ]
     },
     "execution_count": 82,
     "metadata": {},
     "output_type": "execute_result"
    }
   ],
   "source": [
    "os.path.isfile(\"demo.ipynb\")"
   ]
  },
  {
   "cell_type": "code",
   "execution_count": 84,
   "metadata": {},
   "outputs": [
    {
     "data": {
      "text/plain": [
       "False"
      ]
     },
     "execution_count": 84,
     "metadata": {},
     "output_type": "execute_result"
    }
   ],
   "source": [
    "os.path.isdir(\"demofile.txt\")"
   ]
  },
  {
   "cell_type": "code",
   "execution_count": 3,
   "metadata": {},
   "outputs": [],
   "source": [
    "name = \"Arivumathi\"\n",
    "age = str(23)\n",
    "\n",
    "f = open(\"demofile.txt\", \"w\")\n",
    "f.write(name)\n",
    "f.write(age)\n",
    "f.close()"
   ]
  },
  {
   "cell_type": "code",
   "execution_count": 31,
   "metadata": {},
   "outputs": [
    {
     "name": "stdout",
     "output_type": "stream",
     "text": [
      "Randomly chosen name: Madhu\n"
     ]
    }
   ],
   "source": [
    "import random\n",
    "\n",
    "names = ['Balachandru', 'Mohan', 'Asharaja', 'Madhu', 'Pavithra', 'Balamurugan', 'Keerthi']\n",
    "random_name = random.choice(names)\n",
    "print(f\"Randomly chosen name: {random_name}\")\n"
   ]
  },
  {
   "cell_type": "code",
   "execution_count": 4,
   "metadata": {},
   "outputs": [],
   "source": [
    "import csv \n",
    "\n",
    "csvfile = open(r\"C:\\Users\\Sridevi\\Downloads\\Master_Python_Course.csv\",\"r\")"
   ]
  },
  {
   "cell_type": "code",
   "execution_count": 5,
   "metadata": {},
   "outputs": [],
   "source": [
    "csvreader = csv.reader(csvfile)"
   ]
  },
  {
   "cell_type": "code",
   "execution_count": 6,
   "metadata": {},
   "outputs": [
    {
     "data": {
      "text/plain": [
       "<_csv.reader at 0x25ffbd7f7c0>"
      ]
     },
     "execution_count": 6,
     "metadata": {},
     "output_type": "execute_result"
    }
   ],
   "source": [
    "csvreader"
   ]
  },
  {
   "cell_type": "code",
   "execution_count": 4,
   "metadata": {},
   "outputs": [
    {
     "name": "stdout",
     "output_type": "stream",
     "text": [
      "Error\n",
      "File closed\n"
     ]
    }
   ],
   "source": [
    "try:\n",
    "    f = open(\"demofile.txt\")\n",
    "    try:\n",
    "        f.write(\"Arivumathi\")\n",
    "    except:\n",
    "        print(\"Error\")\n",
    "    finally:\n",
    "        f.close()\n",
    "except:\n",
    "    print(\"Error happend\")\n",
    "finally:\n",
    "    print(\"File closed\")"
   ]
  },
  {
   "cell_type": "code",
   "execution_count": 9,
   "metadata": {},
   "outputs": [
    {
     "name": "stdout",
     "output_type": "stream",
     "text": [
      "0.25\n"
     ]
    }
   ],
   "source": [
    "def reciprocal( num1 ):  \n",
    "    try:  \n",
    "        reci = 1 / num1  \n",
    "    except ZeroDivisionError:  \n",
    "        print( \"We cannot divide by zero\" )  \n",
    "    else:  \n",
    "        print ( reci )  \n",
    "# Calling the function and passing values  \n",
    "reciprocal( 4 )  \n",
    " "
   ]
  },
  {
   "cell_type": "code",
   "execution_count": 10,
   "metadata": {},
   "outputs": [
    {
     "name": "stdout",
     "output_type": "stream",
     "text": [
      "We cannot divide by zero\n"
     ]
    }
   ],
   "source": [
    "reciprocal( 0 ) "
   ]
  },
  {
   "cell_type": "code",
   "execution_count": 15,
   "metadata": {},
   "outputs": [
    {
     "name": "stdout",
     "output_type": "stream",
     "text": [
      "x / y value is : \n"
     ]
    },
    {
     "ename": "AssertionError",
     "evalue": "Divide by 0 error",
     "output_type": "error",
     "traceback": [
      "\u001b[1;31m---------------------------------------------------------------------------\u001b[0m",
      "\u001b[1;31mAssertionError\u001b[0m                            Traceback (most recent call last)",
      "Cell \u001b[1;32mIn[15], line 6\u001b[0m\n\u001b[0;32m      4\u001b[0m \u001b[38;5;66;03m# It uses assert to check for 0     \u001b[39;00m\n\u001b[0;32m      5\u001b[0m \u001b[38;5;28mprint\u001b[39m (\u001b[38;5;124m\"\u001b[39m\u001b[38;5;124mx / y value is : \u001b[39m\u001b[38;5;124m\"\u001b[39m)     \n\u001b[1;32m----> 6\u001b[0m \u001b[38;5;28;01massert\u001b[39;00m y \u001b[38;5;241m!=\u001b[39m \u001b[38;5;241m0\u001b[39m, \u001b[38;5;124m\"\u001b[39m\u001b[38;5;124mDivide by 0 error\u001b[39m\u001b[38;5;124m\"\u001b[39m    \n\u001b[0;32m      7\u001b[0m \u001b[38;5;28mprint\u001b[39m (x \u001b[38;5;241m/\u001b[39m y)    \n",
      "\u001b[1;31mAssertionError\u001b[0m: Divide by 0 error"
     ]
    }
   ],
   "source": [
    "# initializing number     \n",
    "x = 7    \n",
    "y = 0\n",
    "# It uses assert to check for 0     \n",
    "print (\"x / y value is : \")     \n",
    "assert y != 0, \"Divide by 0 error\"    \n",
    "print (x / y)    "
   ]
  },
  {
   "cell_type": "markdown",
   "metadata": {},
   "source": [
    "REST APIs (Representational State Transfer)\n",
    "SOAP APIs (Simple Object Access Protocol)\n",
    "GrapghQL APIs\n",
    "RPC APIs (Remote Procedure Call)\n",
    "Webhooks\n",
    "Partner APIs\n",
    "Internal APIs\n",
    "Composite APIs\n",
    "Library-based APIs\n",
    "Open APIs (Public APIs)"
   ]
  },
  {
   "cell_type": "code",
   "execution_count": 2,
   "metadata": {},
   "outputs": [
    {
     "name": "stdout",
     "output_type": "stream",
     "text": [
      "The Great Gatsby\n"
     ]
    }
   ],
   "source": [
    "class Bookstore:\n",
    "    def __init__(self):\n",
    "        self.books = []\n",
    "    \n",
    "    def add_book(self, id, title, author, year, genre):\n",
    "        new_book = {\n",
    "            \"id\": id,\n",
    "            \"title\": title,\n",
    "            \"author\": author,\n",
    "            \"year\": year,\n",
    "            \"genre\": genre\n",
    "        }\n",
    "        self.books.append(new_book)\n",
    "        return new_book\n",
    "\n",
    "    def get_book_by_id(self, id):\n",
    "        for book in self.books:\n",
    "            if book[\"id\"] == id:\n",
    "                return book\n",
    "        return None\n",
    "\n",
    "if __name__ == \"__main__\":\n",
    "    bookstore = Bookstore()\n",
    "\n",
    "    book1 = bookstore.add_book(id=1, title=\"The Great Gatsby\", author=\"F. Scott Fitzgerald\", year=1925, genre=\"Fiction\")\n",
    "\n",
    "    print(bookstore.get_book_by_id(1)[\"title\"])\n"
   ]
  },
  {
   "cell_type": "code",
   "execution_count": null,
   "metadata": {},
   "outputs": [],
   "source": [
    "from simpleapi import Bookstore\n",
    "\n",
    "class libraryManager:          \n",
    "    def __init__(self, bookstore):\n",
    "        self.bookstore = bookstore\n",
    "    \n",
    "    def add_book_to_store(self, id, title, author, year, genre):\n",
    "        new_book = self.bookstore.add_book(id, title, author, year, genre)\n",
    "        return new_book\n",
    "\n",
    "if __name__ == '__main__':\n",
    "    bookstore = Bookstore()\n",
    "\n",
    "    manager = libraryManager(bookstore)\n",
    "\n",
    "    manager.add_book_to_store(id=1, title=\"The Great Gatsby\", author=\"F. Scott Fitzgerald\", year=1925, genre=\"Fiction\")\n",
    "\n",
    "    print(bookstore.get_book_by_id(1)[\"title\"])"
   ]
  },
  {
   "cell_type": "markdown",
   "metadata": {},
   "source": [
    "## working with csv and Json files"
   ]
  },
  {
   "cell_type": "code",
   "execution_count": 1,
   "metadata": {},
   "outputs": [
    {
     "name": "stdout",
     "output_type": "stream",
     "text": [
      "['ï»¿name', 'age', 'class']\n",
      "['Bala', '21', 'python']\n",
      "['Mohan', '21', 'python']\n",
      "['Pavithra', '20', 'python']\n"
     ]
    }
   ],
   "source": [
    "import csv\n",
    "\n",
    "with open('data.csv', mode='r') as file:\n",
    "    csv_reader = csv.reader(file)\n",
    "    for row in csv_reader:\n",
    "        print(row)\n"
   ]
  },
  {
   "cell_type": "code",
   "execution_count": 2,
   "metadata": {},
   "outputs": [],
   "source": [
    "with open('data1.csv', mode='w', newline='') as file:\n",
    "    csv_writer = csv.writer(file)\n",
    "    csv_writer.writerow(['name', 'age', 'city'])\n",
    "    csv_writer.writerow(['Alice', 30, 'New York'])\n",
    "    csv_writer.writerow(['Bob', 25, 'Los Angeles'])\n"
   ]
  },
  {
   "cell_type": "code",
   "execution_count": 3,
   "metadata": {},
   "outputs": [
    {
     "name": "stdout",
     "output_type": "stream",
     "text": [
      "{'ï»¿name': 'Bala', 'age': '21', 'class': 'python'}\n",
      "{'ï»¿name': 'Mohan', 'age': '21', 'class': 'python'}\n",
      "{'ï»¿name': 'Pavithra', 'age': '20', 'class': 'python'}\n"
     ]
    }
   ],
   "source": [
    "# Reading with DictReader\n",
    "with open('data.csv', mode='r') as file:\n",
    "    csv_reader = csv.DictReader(file)\n",
    "    for row in csv_reader:\n",
    "        print(row)"
   ]
  },
  {
   "cell_type": "code",
   "execution_count": 4,
   "metadata": {},
   "outputs": [],
   "source": [
    "# Writing with DictWriter\n",
    "with open('data1.csv', mode='w', newline='') as file:\n",
    "    fieldnames = ['name', 'age', 'city']\n",
    "    csv_writer = csv.DictWriter(file, fieldnames=fieldnames)\n",
    "    csv_writer.writeheader()\n",
    "    csv_writer.writerow({'name': 'Alice', 'age': 30, 'city': 'New York'})"
   ]
  },
  {
   "cell_type": "markdown",
   "metadata": {},
   "source": [
    "## Json"
   ]
  },
  {
   "cell_type": "code",
   "execution_count": 8,
   "metadata": {},
   "outputs": [],
   "source": [
    "import json\n",
    "data = {\n",
    "    \"name\": \"Alice\",\n",
    "    \"age\": 30,\n",
    "    \"city\": \"New York\"\n",
    "}\n",
    "\n",
    "with open('data.json', 'w') as file:\n",
    "    json.dump(data, file, indent=4)\n"
   ]
  },
  {
   "cell_type": "code",
   "execution_count": 9,
   "metadata": {},
   "outputs": [
    {
     "name": "stdout",
     "output_type": "stream",
     "text": [
      "{'name': 'Alice', 'age': 30, 'city': 'New York'}\n"
     ]
    }
   ],
   "source": [
    "import json\n",
    "\n",
    "with open('data.json', 'r') as file:\n",
    "    data = json.load(file)\n",
    "    print(data)\n"
   ]
  },
  {
   "cell_type": "code",
   "execution_count": 10,
   "metadata": {},
   "outputs": [
    {
     "name": "stdout",
     "output_type": "stream",
     "text": [
      "{'name': 'Alice', 'age': 30, 'city': 'New York'}\n"
     ]
    }
   ],
   "source": [
    "# Convert JSON string to Python dictionary\n",
    "json_string = '{\"name\": \"Alice\", \"age\": 30, \"city\": \"New York\"}'\n",
    "data = json.loads(json_string)\n",
    "print(data)"
   ]
  },
  {
   "cell_type": "code",
   "execution_count": 13,
   "metadata": {},
   "outputs": [
    {
     "name": "stdout",
     "output_type": "stream",
     "text": [
      "{\n",
      "    \"name\": \"Bob\",\n",
      "    \"age\": 25,\n",
      "    \"city\": \"Los Angeles\"\n",
      "}\n"
     ]
    }
   ],
   "source": [
    "# Convert Python dictionary to JSON string\n",
    "python_data = {\"name\": \"Bob\", \"age\": 25, \"city\": \"Los Angeles\"}\n",
    "json_data = json.dumps(python_data, indent=4)\n",
    "print(json_data)"
   ]
  }
 ],
 "metadata": {
  "kernelspec": {
   "display_name": "Python 3",
   "language": "python",
   "name": "python3"
  },
  "language_info": {
   "codemirror_mode": {
    "name": "ipython",
    "version": 3
   },
   "file_extension": ".py",
   "mimetype": "text/x-python",
   "name": "python",
   "nbconvert_exporter": "python",
   "pygments_lexer": "ipython3",
   "version": "3.12.4"
  }
 },
 "nbformat": 4,
 "nbformat_minor": 2
}
