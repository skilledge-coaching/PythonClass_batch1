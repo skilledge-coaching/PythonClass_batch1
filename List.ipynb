{
 "cells": [
  {
   "cell_type": "markdown",
   "metadata": {},
   "source": [
    "## Advanced Data Structures"
   ]
  },
  {
   "cell_type": "markdown",
   "metadata": {},
   "source": [
    "List\n",
    "Tuple\n",
    "Set\n",
    "Dictionary\n",
    "Array"
   ]
  },
  {
   "cell_type": "markdown",
   "metadata": {
    "vscode": {
     "languageId": "plaintext"
    }
   },
   "source": [
    "## List"
   ]
  },
  {
   "cell_type": "markdown",
   "metadata": {},
   "source": [
    "List are used to store multiple items in a single variable"
   ]
  },
  {
   "cell_type": "code",
   "execution_count": 12,
   "metadata": {},
   "outputs": [
    {
     "name": "stdout",
     "output_type": "stream",
     "text": [
      "[1, 3, 4, 8.5, 'python', True, 3, 3, 4, 4]\n"
     ]
    }
   ],
   "source": [
    "thelist = [1,3,4, 8.5, \"python\", True, 3,3,4,4]\n",
    "\n",
    "print(thelist)"
   ]
  },
  {
   "cell_type": "markdown",
   "metadata": {},
   "source": [
    "List item:\n",
    "    ordered\n",
    "    changeable\n",
    "    allow duplicate values\n",
    "    can access the values with index"
   ]
  },
  {
   "cell_type": "code",
   "execution_count": 16,
   "metadata": {},
   "outputs": [
    {
     "name": "stdout",
     "output_type": "stream",
     "text": [
      "[3, 4, 8.5, 'python']\n",
      "[3, 3, 4]\n"
     ]
    }
   ],
   "source": [
    "#Slicing\n",
    "\n",
    "[1,3,4, 8.5, \"python\", True, 3,3,4,4]\n",
    "\n",
    "#1 - 0, 3-1, 4-2, 8.5-3, \"Python\" - 4, True - 5, 3-6, 3 - 7, 4 - 8, 4-9\n",
    "#1 - -10, 3- -9, 4- -8, 8.5- -7, \"Python\" - -6, True - -5, 3- -4, 3 - -3, 4 - -2, 4- -1\n",
    "\n",
    "print(thelist[1:5])  #positive slicing\n",
    "print(thelist[-4:-1]) #negative slicing"
   ]
  },
  {
   "cell_type": "code",
   "execution_count": 19,
   "metadata": {},
   "outputs": [
    {
     "name": "stdout",
     "output_type": "stream",
     "text": [
      "[1, 3, 4, 8.5, 'python', True, 3, 3, 4, 4, 116, 'hello']\n"
     ]
    }
   ],
   "source": [
    "#append - add an new elements at the end of the list\n",
    "\n",
    "thelist.append(\"hello\")\n",
    "print(thelist)"
   ]
  },
  {
   "cell_type": "code",
   "execution_count": 20,
   "metadata": {},
   "outputs": [
    {
     "name": "stdout",
     "output_type": "stream",
     "text": [
      "[1]\n"
     ]
    }
   ],
   "source": [
    "#we can also add elements in empty list\n",
    "a = [ ]\n",
    "\n",
    "a.append(1)\n",
    "print(a)"
   ]
  },
  {
   "cell_type": "code",
   "execution_count": 22,
   "metadata": {},
   "outputs": [
    {
     "name": "stdout",
     "output_type": "stream",
     "text": [
      "[3, 5, 10, 6, 21, 5, 7]\n"
     ]
    }
   ],
   "source": [
    "#insert() - Add an element at the specified position\n",
    "\n",
    "a = [3,5,6,21,5,7]\n",
    "\n",
    "a.insert(2,10)\n",
    "print(a)"
   ]
  },
  {
   "cell_type": "code",
   "execution_count": 23,
   "metadata": {},
   "outputs": [
    {
     "name": "stdout",
     "output_type": "stream",
     "text": [
      "[3, 5, 10, 6, 5, 7]\n"
     ]
    }
   ],
   "source": [
    "#remove() - removes the item with the specified value\n",
    "\n",
    "a.remove(21)\n",
    "print(a)"
   ]
  },
  {
   "cell_type": "code",
   "execution_count": 95,
   "metadata": {},
   "outputs": [
    {
     "name": "stdout",
     "output_type": "stream",
     "text": [
      "before pop [3, 5, 6, 1, 9, 8, 5, 3, 1, 4]\n",
      "After pop  [3, 5, 6, 1, 9, 8, 5, 3, 1]\n",
      "---- [3, 5, 6, 9, 8, 5, 3, 1]\n"
     ]
    }
   ],
   "source": [
    "#pop() - removes the element at the specified position (index)\n",
    "\n",
    "a = [3,5,6,1,9,8,5,3,1,4]\n",
    "print(\"before pop\",a)\n",
    "a.pop() #its remove the last element in the list\n",
    "print(\"After pop \",a)\n",
    "a.pop(3)\n",
    "print(\"----\", a)"
   ]
  },
  {
   "cell_type": "code",
   "execution_count": 48,
   "metadata": {},
   "outputs": [
    {
     "name": "stdout",
     "output_type": "stream",
     "text": [
      "[34, 56, 21, 42, 17, 98, 100]\n",
      "After sort:  [17, 21, 34, 42, 56, 98, 100]\n",
      "Sorted:  [1, 4, 11, 20, 32, 54, 56.45]\n",
      "original list:  [56.45, 54, 32, 11, 20, 4, 1]\n"
     ]
    }
   ],
   "source": [
    "#sort()\n",
    "\"\"\"\n",
    "the sort() method modifies the list in place, meaning it rearranges the elements of the list directly without creating \n",
    "a new list. However, it does not return any value (it returns None), which is why print(a.sort()) results in None.\n",
    "sorted - it will sort the list without change the original list structure\"\"\"\n",
    "\n",
    "\n",
    "list1 = [34,56,21,42,17,98,100]\n",
    "list2 = [56.45, 54,32,11,20,4,1]\n",
    "print(list1)\n",
    "list1.sort()\n",
    "print(\"After sort: \",list1)\n",
    "print(\"Sorted: \", sorted(list2))\n",
    "print(\"original list: \",list2)"
   ]
  },
  {
   "cell_type": "code",
   "execution_count": 62,
   "metadata": {},
   "outputs": [
    {
     "name": "stdout",
     "output_type": "stream",
     "text": [
      "[43, 22, 12, 6, 5, 4, 3, 1]\n"
     ]
    }
   ],
   "source": [
    "list1 = [12,1,3,4,5,6,22,43]\n",
    "\n",
    "list1.sort(reverse=True)\n",
    "print(list1)\n",
    "# print(\"Sorted: \", sorted(list1))\n",
    "\n",
    "\n",
    "# list2 = [34,67,21,54,67,32,45]\n",
    "# print(\"Sorted: \", sorted(list2))\n",
    "# print(list2)"
   ]
  },
  {
   "cell_type": "code",
   "execution_count": 66,
   "metadata": {},
   "outputs": [
    {
     "name": "stdout",
     "output_type": "stream",
     "text": [
      "['Arivu', 'dharani', 'Nirai', 'rebekal', 'vanitha']\n"
     ]
    }
   ],
   "source": [
    "list1 = [\"Arivu\", \"dharani\", \"vanitha\", \"rebekal\", \"Nirai\"]\n",
    "\n",
    "list1.sort(key=str.lower) #for the string sort will always prioritize the capital letter and then go with small letters\n",
    "print(list1)"
   ]
  },
  {
   "cell_type": "code",
   "execution_count": 49,
   "metadata": {},
   "outputs": [
    {
     "data": {
      "text/plain": [
       "[17, 21, 34, 42, 56, 98, 100]"
      ]
     },
     "execution_count": 49,
     "metadata": {},
     "output_type": "execute_result"
    }
   ],
   "source": [
    "list1"
   ]
  },
  {
   "cell_type": "code",
   "execution_count": 38,
   "metadata": {},
   "outputs": [
    {
     "name": "stdout",
     "output_type": "stream",
     "text": [
      "[]\n"
     ]
    },
    {
     "ename": "NameError",
     "evalue": "name 'list1' is not defined",
     "output_type": "error",
     "traceback": [
      "\u001b[1;31m---------------------------------------------------------------------------\u001b[0m",
      "\u001b[1;31mNameError\u001b[0m                                 Traceback (most recent call last)",
      "Cell \u001b[1;32mIn[38], line 7\u001b[0m\n\u001b[0;32m      5\u001b[0m \u001b[38;5;28mprint\u001b[39m(list1)\n\u001b[0;32m      6\u001b[0m \u001b[38;5;28;01mdel\u001b[39;00m list1\n\u001b[1;32m----> 7\u001b[0m \u001b[38;5;28mprint\u001b[39m(\u001b[43mlist1\u001b[49m)\n",
      "\u001b[1;31mNameError\u001b[0m: name 'list1' is not defined"
     ]
    }
   ],
   "source": [
    "#clear() - Remove all the elements from the list not delete whole list\n",
    "#del - delete the whole list  \n",
    "\n",
    "# list1\n",
    "list1.clear()\n",
    "print(list1)\n",
    "del list1\n",
    "print(list1)\n"
   ]
  },
  {
   "cell_type": "code",
   "execution_count": 37,
   "metadata": {},
   "outputs": [
    {
     "name": "stdout",
     "output_type": "stream",
     "text": [
      "7\n"
     ]
    }
   ],
   "source": [
    "#len() - helps to find the length of the list\n",
    "\n",
    "a\n",
    "print(len(a))"
   ]
  },
  {
   "cell_type": "code",
   "execution_count": 41,
   "metadata": {},
   "outputs": [
    {
     "name": "stdout",
     "output_type": "stream",
     "text": [
      "[1, 3, 5, 2, 4, 6]\n",
      "[2, 4, 6]\n",
      "---- [2, 4, 6, 1, 3, 5, 2, 4, 6]\n"
     ]
    }
   ],
   "source": [
    "#extend() - add the elements of a list (or any iterable), to the end of the current list\n",
    "\n",
    "a = [1,3,5]\n",
    "b = [2,4,6]\n",
    "\n",
    "a.extend(b)\n",
    "print(a)\n",
    "print(b)\n",
    "\n",
    "b.extend(a)\n",
    "print(\"----\",b)"
   ]
  },
  {
   "cell_type": "code",
   "execution_count": 51,
   "metadata": {},
   "outputs": [
    {
     "name": "stdout",
     "output_type": "stream",
     "text": [
      "Combined list:  [65, 7.5, 'name', 98, 100, 'a', 0, 3.14, 2, 4, 1, 2, 3, 4, 5]\n"
     ]
    }
   ],
   "source": [
    "## Join 2 list \n",
    "\n",
    "lst1 = [65,7.5, 'name', 98, 100]\n",
    "lst2 = ['a', 0, 3.14, 2, 4,]\n",
    "lst3 = [1, 2, 3, 4, 5]\n",
    "\n",
    "combine_lst = lst1 + lst2 + lst3\n",
    "print(\"Combined list: \", combine_lst)"
   ]
  },
  {
   "cell_type": "code",
   "execution_count": 68,
   "metadata": {},
   "outputs": [
    {
     "name": "stdout",
     "output_type": "stream",
     "text": [
      "[65, 7.5, 'name', 98, 100, 'a', 0, 3.14, 2, 4]\n"
     ]
    }
   ],
   "source": [
    "lst1 = [65,7.5, 'name', 98, 100]\n",
    "lst2 = ['a', 0, 3.14, 2, 4,]\n",
    "\n",
    "combine_list = lst1 + lst2\n",
    "print(combine_list)"
   ]
  },
  {
   "cell_type": "code",
   "execution_count": 55,
   "metadata": {},
   "outputs": [
    {
     "name": "stdout",
     "output_type": "stream",
     "text": [
      "before combine:  ['a', 0, 3.14, 2, 4]\n",
      "after combine:  ['a', 0, 3.14, 2, 4, 1, 2, 3, 4, 5]\n"
     ]
    }
   ],
   "source": [
    "## join list using extend\n",
    "\n",
    "combine_using_extend = lst2.copy()\n",
    "print(\"before combine: \", combine_using_extend)\n",
    "\n",
    "combine_using_extend.extend(lst3)\n",
    "print(\"after combine: \", combine_using_extend)"
   ]
  },
  {
   "cell_type": "code",
   "execution_count": 75,
   "metadata": {},
   "outputs": [
    {
     "name": "stdout",
     "output_type": "stream",
     "text": [
      "[45, 5, 6, 7, 8, 9]\n"
     ]
    }
   ],
   "source": [
    "#copy() - returns a copy of the list \n",
    "lst2 = [45,5,6,7,8,9]\n",
    "\n",
    "lst = lst2.copy() \n",
    "print(lst)"
   ]
  },
  {
   "cell_type": "markdown",
   "metadata": {},
   "source": [
    "## List Comprehension"
   ]
  },
  {
   "cell_type": "markdown",
   "metadata": {},
   "source": [
    "list comprehension offers a shorter syntax when you want to create a new list based on the values of an existing list"
   ]
  },
  {
   "cell_type": "markdown",
   "metadata": {},
   "source": [
    "newlist = [item for item in iterable if condition == True]"
   ]
  },
  {
   "cell_type": "code",
   "execution_count": 80,
   "metadata": {},
   "outputs": [
    {
     "name": "stdout",
     "output_type": "stream",
     "text": [
      "[6, 8]\n"
     ]
    }
   ],
   "source": [
    "lst2 = [45,5,6,7,8,9]\n",
    "\n",
    "a = \"Python\"\n",
    "\n",
    "b = []\n",
    "for i in lst2:\n",
    "    if i%2 == 0:\n",
    "        b.append(i)\n",
    "\n",
    "print(b)"
   ]
  },
  {
   "cell_type": "code",
   "execution_count": 82,
   "metadata": {},
   "outputs": [
    {
     "name": "stdout",
     "output_type": "stream",
     "text": [
      "[6, 8]\n"
     ]
    }
   ],
   "source": [
    "b = [i for i in lst2 if i%2 == 0]\n",
    "\n",
    "print(b)"
   ]
  },
  {
   "cell_type": "code",
   "execution_count": 85,
   "metadata": {},
   "outputs": [
    {
     "name": "stdout",
     "output_type": "stream",
     "text": [
      "['apple', 'banana', 'mango']\n"
     ]
    }
   ],
   "source": [
    "fruits = [\"apple\",\"banana\",\"kiwi\", \"cherry\", \"mango\"]\n",
    "\n",
    "newlist = [i for i in fruits if \"a\" in i]\n",
    "print(newlist)"
   ]
  },
  {
   "cell_type": "code",
   "execution_count": 87,
   "metadata": {},
   "outputs": [
    {
     "name": "stdout",
     "output_type": "stream",
     "text": [
      "1\n",
      "2\n",
      "3\n",
      "4\n",
      "5\n",
      "6\n",
      "7\n",
      "8\n",
      "9\n",
      "10\n"
     ]
    }
   ],
   "source": [
    "for i in range(1,11):\n",
    "    print(i)"
   ]
  },
  {
   "cell_type": "code",
   "execution_count": 94,
   "metadata": {},
   "outputs": [
    {
     "name": "stdout",
     "output_type": "stream",
     "text": [
      "[6, 7, 8, 9, 10]\n"
     ]
    }
   ],
   "source": [
    "[1,2,3,4,5,6,7,8,9,10]\n",
    "\n",
    "newlist = [i for i in range(1,11) if i>5]\n",
    "print(newlist)"
   ]
  },
  {
   "cell_type": "code",
   "execution_count": 93,
   "metadata": {},
   "outputs": [
    {
     "name": "stdout",
     "output_type": "stream",
     "text": [
      "['P', 'y', 'h', 'o', 'n']\n"
     ]
    }
   ],
   "source": [
    "a = \"Python\"\n",
    "\n",
    "[\"p\",\"y\",\"t\",\"h\",\"o\",\"n\"]\n",
    "\n",
    "newlist = [i for i in a if i!='t']\n",
    "print(newlist)"
   ]
  }
 ],
 "metadata": {
  "kernelspec": {
   "display_name": "Python 3",
   "language": "python",
   "name": "python3"
  },
  "language_info": {
   "codemirror_mode": {
    "name": "ipython",
    "version": 3
   },
   "file_extension": ".py",
   "mimetype": "text/x-python",
   "name": "python",
   "nbconvert_exporter": "python",
   "pygments_lexer": "ipython3",
   "version": "3.12.4"
  }
 },
 "nbformat": 4,
 "nbformat_minor": 2
}
