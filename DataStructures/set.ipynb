{
 "cells": [
  {
   "cell_type": "markdown",
   "metadata": {},
   "source": [
    "## Set"
   ]
  },
  {
   "cell_type": "markdown",
   "metadata": {},
   "source": [
    "varibale_name = { }\n",
    "\n",
    "unordered\n",
    "unchangeable - only add and remove\n",
    "do not allow duplicate values"
   ]
  },
  {
   "cell_type": "code",
   "execution_count": 2,
   "metadata": {},
   "outputs": [
    {
     "name": "stdout",
     "output_type": "stream",
     "text": [
      "{False, True, 2, 4, 5, 'python', 6}\n"
     ]
    }
   ],
   "source": [
    "theset = {2,4,5,4,True, False, \"python\", 6}\n",
    "print(theset)"
   ]
  },
  {
   "cell_type": "markdown",
   "metadata": {},
   "source": [
    "#add() - only add an elements in last of the set\n",
    "#remove() - remove an element from the set\n",
    "#discard() - also use this to remove an element from the set\n",
    "#clear() - this is also used in set"
   ]
  },
  {
   "cell_type": "code",
   "execution_count": 3,
   "metadata": {},
   "outputs": [
    {
     "name": "stdout",
     "output_type": "stream",
     "text": [
      "{False, True, 2, 4, 5, 'python', 6, 56}\n",
      "{False, True, 4, 5, 'python', 6, 56}\n"
     ]
    }
   ],
   "source": [
    "theset.add(56)\n",
    "print(theset)\n",
    "\n",
    "theset.remove(2)\n",
    "print(theset)\n",
    "\n",
    "\"\"\"set are unordered, so when using the pop() method you do not know which item that gets removed\"\"\""
   ]
  },
  {
   "cell_type": "code",
   "execution_count": 4,
   "metadata": {},
   "outputs": [
    {
     "name": "stdout",
     "output_type": "stream",
     "text": [
      "{False, 4, 5, 'python', 6, 56}\n"
     ]
    }
   ],
   "source": [
    "theset.discard(True)\n",
    "print(theset)"
   ]
  },
  {
   "cell_type": "markdown",
   "metadata": {},
   "source": [
    "## Join Sets"
   ]
  },
  {
   "cell_type": "markdown",
   "metadata": {},
   "source": [
    "union() and update() -- joins all items from both sets\n",
    "\n",
    "intersection() - it only extract the common values in both set\n",
    "\n",
    "difference() - method keeps the items from the first set that are not in the other set(s)\n",
    "\n",
    "Symmetric_difference() - method keeps all item EXCEPT the duplicates"
   ]
  },
  {
   "cell_type": "markdown",
   "metadata": {},
   "source": [
    "## Union"
   ]
  },
  {
   "cell_type": "code",
   "execution_count": 5,
   "metadata": {},
   "outputs": [
    {
     "name": "stdout",
     "output_type": "stream",
     "text": [
      "{1, 2, 3, 4, 5, 'e', 8, 9, 'c', 10, 'a', 'b', 'f', 'd'}\n"
     ]
    }
   ],
   "source": [
    "set1 = {'a', 'b', 'c', 2, 4, 5, 1 }\n",
    "set2 = {1,2,3,8,'d', 'e', 'f', 3, 9, 10}\n",
    "\n",
    "join_set1 = set1.union(set2)\n",
    "print(join_set1)  "
   ]
  },
  {
   "cell_type": "code",
   "execution_count": 7,
   "metadata": {},
   "outputs": [
    {
     "name": "stdout",
     "output_type": "stream",
     "text": [
      "{1, 2, 3, 4, 5, 'e', 8, 9, 'c', 10, 'a', 'b', 'f', 'd'}\n"
     ]
    }
   ],
   "source": [
    "join_set2 = set1 | set2\n",
    "print(join_set2)"
   ]
  },
  {
   "cell_type": "markdown",
   "metadata": {},
   "source": [
    "## Join multiple sets"
   ]
  },
  {
   "cell_type": "code",
   "execution_count": 8,
   "metadata": {},
   "outputs": [
    {
     "name": "stdout",
     "output_type": "stream",
     "text": [
      "set1:  {1, 2, 4, 5, 'a', 'c', 'b'}\n",
      "set2:  {1, 2, 3, 'f', 'e', 8, 9, 10, 'd'}\n",
      "set3:  {3, 'python', 89, 90, 124}\n",
      "set4:  {34, 'join', 22, 'class', 90, 45}\n"
     ]
    }
   ],
   "source": [
    "set3 = {'python', 3, 89, 90, 124}\n",
    "set4 = {'class', 'join', 90, 45, 34, 22}\n",
    "print(\"set1: \",set1)\n",
    "print(\"set2: \",set2)\n",
    "print(\"set3: \",set3)\n",
    "print(\"set4: \", set4)\n"
   ]
  },
  {
   "cell_type": "code",
   "execution_count": 9,
   "metadata": {},
   "outputs": [
    {
     "name": "stdout",
     "output_type": "stream",
     "text": [
      "{1, 2, 3, 'e', 'python', 8, 9, 10, 22, 89, 90, 34, 'join', 'f', 'class', 45, 'd', 124}\n"
     ]
    }
   ],
   "source": [
    "join_multiple_set = set1.union(set2, set3, set4)\n",
    "print(join_multiple_set)\n",
    "\n",
    "# or - set1|set2|set3|set4"
   ]
  },
  {
   "cell_type": "markdown",
   "metadata": {},
   "source": [
    "## Intersection"
   ]
  },
  {
   "cell_type": "code",
   "execution_count": 13,
   "metadata": {},
   "outputs": [
    {
     "name": "stdout",
     "output_type": "stream",
     "text": [
      "Intersection of set1 and set2:  {1, 2}\n"
     ]
    }
   ],
   "source": [
    "join_intersection = set1.intersection(set2)\n",
    "print(\"Intersection of set1 and set2: \", join_intersection)"
   ]
  },
  {
   "cell_type": "code",
   "execution_count": 14,
   "metadata": {},
   "outputs": [
    {
     "name": "stdout",
     "output_type": "stream",
     "text": [
      "{1, 2}\n"
     ]
    }
   ],
   "source": [
    "#another method\n",
    "\n",
    "join_intersection1 = set1 & set2\n",
    "print(join_intersection1)"
   ]
  },
  {
   "cell_type": "markdown",
   "metadata": {},
   "source": [
    "## Difference"
   ]
  },
  {
   "cell_type": "markdown",
   "metadata": {},
   "source": [
    "This method will return a new set that will contain only the items from the first set that are not present in the other set"
   ]
  },
  {
   "cell_type": "code",
   "execution_count": 16,
   "metadata": {},
   "outputs": [
    {
     "name": "stdout",
     "output_type": "stream",
     "text": [
      "{1, 2, 4, 5, 'a', 'c', 'b'}\n",
      "{1, 2, 3, 'f', 'e', 8, 9, 10, 'd'}\n"
     ]
    }
   ],
   "source": [
    "print(set1)\n",
    "print(set2)"
   ]
  },
  {
   "cell_type": "code",
   "execution_count": 15,
   "metadata": {},
   "outputs": [
    {
     "name": "stdout",
     "output_type": "stream",
     "text": [
      "{4, 5, 'c', 'a', 'b'}\n"
     ]
    }
   ],
   "source": [
    "set_difference = set1.difference(set2)\n",
    "print(set_difference)"
   ]
  },
  {
   "cell_type": "code",
   "execution_count": 18,
   "metadata": {},
   "outputs": [
    {
     "name": "stdout",
     "output_type": "stream",
     "text": [
      "{4, 5, 'c', 'a', 'b'}\n"
     ]
    }
   ],
   "source": [
    "## other method\n",
    "\n",
    "print(set1-set2)"
   ]
  },
  {
   "cell_type": "markdown",
   "metadata": {},
   "source": [
    "## Symmetric_difference"
   ]
  },
  {
   "cell_type": "markdown",
   "metadata": {},
   "source": [
    "this method will keep only the elements that are not present in both sets"
   ]
  },
  {
   "cell_type": "code",
   "execution_count": 20,
   "metadata": {},
   "outputs": [
    {
     "name": "stdout",
     "output_type": "stream",
     "text": [
      "{1, 2, 4, 5, 'a', 'c', 'b'}\n",
      "{1, 2, 3, 'f', 'e', 8, 9, 10, 'd'}\n"
     ]
    }
   ],
   "source": [
    "print(set1)\n",
    "print(set2)"
   ]
  },
  {
   "cell_type": "code",
   "execution_count": 21,
   "metadata": {},
   "outputs": [
    {
     "name": "stdout",
     "output_type": "stream",
     "text": [
      "{1, 2}\n"
     ]
    }
   ],
   "source": [
    "print(set1 & set2)"
   ]
  },
  {
   "cell_type": "code",
   "execution_count": 19,
   "metadata": {},
   "outputs": [
    {
     "name": "stdout",
     "output_type": "stream",
     "text": [
      "{3, 4, 'f', 'e', 5, 8, 9, 10, 'c', 'd', 'a', 'b'}\n"
     ]
    }
   ],
   "source": [
    "symmetric_difference_set = set1.symmetric_difference(set2)\n",
    "print(symmetric_difference_set)"
   ]
  }
 ],
 "metadata": {
  "kernelspec": {
   "display_name": "Python 3",
   "language": "python",
   "name": "python3"
  },
  "language_info": {
   "codemirror_mode": {
    "name": "ipython",
    "version": 3
   },
   "file_extension": ".py",
   "mimetype": "text/x-python",
   "name": "python",
   "nbconvert_exporter": "python",
   "pygments_lexer": "ipython3",
   "version": "3.12.4"
  }
 },
 "nbformat": 4,
 "nbformat_minor": 2
}
