{
 "cells": [
  {
   "cell_type": "markdown",
   "metadata": {},
   "source": [
    "## Set"
   ]
  },
  {
   "cell_type": "markdown",
   "metadata": {},
   "source": [
    "varibale_name = { }\n",
    "\n",
    "unordered\n",
    "unchangeable - only add and remove\n",
    "do not allow duplicate values"
   ]
  },
  {
   "cell_type": "code",
   "execution_count": 2,
   "metadata": {},
   "outputs": [
    {
     "name": "stdout",
     "output_type": "stream",
     "text": [
      "{False, True, 2, 'python', 4, 5, 6}\n"
     ]
    }
   ],
   "source": [
    "theset = {2,4,5,4,True, False, \"python\", 6}\n",
    "print(theset)"
   ]
  },
  {
   "cell_type": "code",
   "execution_count": 4,
   "metadata": {},
   "outputs": [
    {
     "name": "stdout",
     "output_type": "stream",
     "text": [
      "{False, True, 'python', 4, 5, 6, 56}\n"
     ]
    }
   ],
   "source": [
    "# theset.add(56)\n",
    "# print(theset)\n",
    "\n",
    "theset.remove(2)\n",
    "print(theset)"
   ]
  }
 ],
 "metadata": {
  "kernelspec": {
   "display_name": "Python 3",
   "language": "python",
   "name": "python3"
  },
  "language_info": {
   "codemirror_mode": {
    "name": "ipython",
    "version": 3
   },
   "file_extension": ".py",
   "mimetype": "text/x-python",
   "name": "python",
   "nbconvert_exporter": "python",
   "pygments_lexer": "ipython3",
   "version": "3.12.4"
  }
 },
 "nbformat": 4,
 "nbformat_minor": 2
}
