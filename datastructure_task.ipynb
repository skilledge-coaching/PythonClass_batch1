{
 "cells": [
  {
   "cell_type": "markdown",
   "metadata": {},
   "source": [
    "Write a Python program to create a list based on user input. The program should first ask the user to input the length of the list. Then, it should prompt the user to input elements one by one and append each element to the list. Finally, the list should be displayed."
   ]
  },
  {
   "cell_type": "code",
   "execution_count": 20,
   "metadata": {},
   "outputs": [
    {
     "name": "stdout",
     "output_type": "stream",
     "text": [
      "[23, 34, 78]\n"
     ]
    }
   ],
   "source": [
    "#type your code here\n",
    "\n",
    "a = []\n",
    "n = int(input(\"Enter a list length: \"))\n",
    "\n",
    "for i in range(1, n+1): #(1,3) -- 1, 2, 3\n",
    "    b = int(input(f\"Enter {i} th element: \"))\n",
    "    a.append(b)\n",
    "\n",
    "print(a)"
   ]
  },
  {
   "cell_type": "markdown",
   "metadata": {},
   "source": [
    "Given a list of numbers, write a Python program to calculate the sum and product (multiplication) of all the elements in the list. You can use any list of integers for this task.\n",
    "\n"
   ]
  },
  {
   "cell_type": "code",
   "execution_count": 7,
   "metadata": {},
   "outputs": [
    {
     "name": "stdout",
     "output_type": "stream",
     "text": [
      "Sum of the list elements is:  193\n",
      "Product of the list elements is:  397281024\n"
     ]
    }
   ],
   "source": [
    "#Type your code here\n",
    "\n",
    "lst = [34,54,12,23,14,56]\n",
    "sum = 0\n",
    "mul = 1\n",
    "\n",
    "for i in lst:\n",
    "    sum += i\n",
    "    mul *= i\n",
    "    \n",
    "print(\"Sum of the list elements is: \", sum)\n",
    "print(\"Product of the list elements is: \", mul)"
   ]
  },
  {
   "cell_type": "code",
   "execution_count": 22,
   "metadata": {},
   "outputs": [
    {
     "name": "stdout",
     "output_type": "stream",
     "text": [
      "193\n",
      "157832212030488576\n"
     ]
    }
   ],
   "source": [
    "sum = 0\n",
    "for i in lst:\n",
    "    sum += i #0+34 -- 34+45 -- \n",
    "    mul *= i\n",
    "print(sum)\n",
    "print(mul)\n",
    "\n",
    "    # print(i)"
   ]
  },
  {
   "cell_type": "markdown",
   "metadata": {},
   "source": [
    "Write a Python program that prompts the user to input a starting and an ending number. The program should find and display all prime numbers between the given range (inclusive of the start and end numbers) and store them in a list.\n",
    "\n",
    "Example: If the user enters a = 10 and b = 30, the program should display all prime numbers between 10 and 30."
   ]
  },
  {
   "cell_type": "code",
   "execution_count": 17,
   "metadata": {},
   "outputs": [
    {
     "name": "stdout",
     "output_type": "stream",
     "text": [
      "All the prime numbers between 10 and 20 are: \n",
      "[11, 13, 17, 19]\n"
     ]
    }
   ],
   "source": [
    "#Type your code here\n",
    "\n",
    "num1 = int(input(\"Enter a starting element: \")) #10\n",
    "num2 = int(input(\"Enter a ending element: \")) #20\n",
    "\n",
    "c = []\n",
    "print(f\"All the prime numbers between {num1} and {num2} are: \")\n",
    "\n",
    "for i in range(num1, num2+1): #(10,21) 10, 11, 12...\n",
    "    if i > 1:\n",
    "        for j in range(2,i): #10 (2,11) -- (2,3,4,5,6,7,8,9,10)\n",
    "            if (i % j) == 0:  # 11% == 0\n",
    "                # print()\n",
    "                break\n",
    "        else:\n",
    "            c.append(i)\n",
    "\n",
    "print(c)"
   ]
  },
  {
   "cell_type": "code",
   "execution_count": 25,
   "metadata": {},
   "outputs": [
    {
     "name": "stdout",
     "output_type": "stream",
     "text": [
      "[10, 11, 12, 13, 14, 15, 16, 17, 18, 19, 20]\n"
     ]
    }
   ],
   "source": [
    "a = 10\n",
    "b = 20\n",
    "c = []\n",
    "\n",
    "11\n",
    "\n",
    "for i in range(10,21):\n",
    "    c.append(i)\n",
    "\n",
    "print(c)"
   ]
  },
  {
   "cell_type": "code",
   "execution_count": 26,
   "metadata": {},
   "outputs": [
    {
     "name": "stdout",
     "output_type": "stream",
     "text": [
      "0\n",
      "1\n",
      "2\n",
      "3\n",
      "4\n"
     ]
    }
   ],
   "source": [
    "for i in range(10):\n",
    "    if i == 5:\n",
    "        break\n",
    "    print(i)"
   ]
  },
  {
   "cell_type": "code",
   "execution_count": 18,
   "metadata": {},
   "outputs": [
    {
     "name": "stdout",
     "output_type": "stream",
     "text": [
      "0\n",
      "1\n",
      "2\n",
      "3\n",
      "4\n"
     ]
    }
   ],
   "source": [
    "for i in range(10):\n",
    "    if i == 5:\n",
    "        break\n",
    "    print(i)"
   ]
  },
  {
   "cell_type": "markdown",
   "metadata": {},
   "source": [
    "Write a Python program to create a tuple with several elements (for example, integers or strings). Then, perform the following tasks:\n",
    "\n",
    "1. Access and print the third element of the tuple.\n",
    "2. Print the length of the tuple.\n",
    "3. Check if a specific element (of your choice) exists in the tuple.\n",
    "4. Update the second element of the tuple with a new value.\n"
   ]
  },
  {
   "cell_type": "code",
   "execution_count": 15,
   "metadata": {},
   "outputs": [
    {
     "name": "stdout",
     "output_type": "stream",
     "text": [
      "the 3 rd element in thetuple is 45\n",
      "The length of the tuple is 7\n",
      "67 is present in the tuple\n",
      "converted thetuple into list:  [34, 67, 45, 'string', 'apple', 6.5, 34.2]\n",
      "after changing the 2nd element of the list:  (34, 998, 45, 'string', 'apple', 6.5, 34.2)\n"
     ]
    }
   ],
   "source": [
    "#Type your code here\n",
    "\n",
    "thetuple = (34, 67, 45, 'string', 'apple', 6.5, 34.2)\n",
    "\n",
    "print(thetuple)\n",
    "#the 2 nd element\n",
    "print(f\"the 3 rd element in thetuple is {thetuple[2]}\")\n",
    "#length of the tuple\n",
    "print(f\"The length of the tuple is {len(thetuple)}\")\n",
    "\n",
    "#check the number is exist or not \n",
    "if 67 in thetuple:\n",
    "    print(f\"67 is present in the tuple\")\n",
    "else:\n",
    "    print(\"this number is not presented in this tuple\")\n",
    "\n",
    "#Update the values in tuple\n",
    "list_thetuple = list(thetuple)\n",
    "print(\"converted thetuple into list: \",list_thetuple)\n",
    "\n",
    "list_thetuple[1] = 998\n",
    "print(\"after changing the 2nd element of the list: \",tuple(list_thetuple))"
   ]
  },
  {
   "cell_type": "markdown",
   "metadata": {},
   "source": []
  },
  {
   "cell_type": "code",
   "execution_count": null,
   "metadata": {},
   "outputs": [],
   "source": []
  }
 ],
 "metadata": {
  "kernelspec": {
   "display_name": "Python 3",
   "language": "python",
   "name": "python3"
  },
  "language_info": {
   "codemirror_mode": {
    "name": "ipython",
    "version": 3
   },
   "file_extension": ".py",
   "mimetype": "text/x-python",
   "name": "python",
   "nbconvert_exporter": "python",
   "pygments_lexer": "ipython3",
   "version": "3.12.4"
  }
 },
 "nbformat": 4,
 "nbformat_minor": 2
}
