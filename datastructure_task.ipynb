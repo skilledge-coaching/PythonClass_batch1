{
 "cells": [
  {
   "cell_type": "markdown",
   "metadata": {},
   "source": [
    "Write a Python program to create a list based on user input. The program should first ask the user to input the length of the list. Then, it should prompt the user to input elements one by one and append each element to the list. Finally, the list should be displayed."
   ]
  },
  {
   "cell_type": "code",
   "execution_count": null,
   "metadata": {},
   "outputs": [],
   "source": [
    "#type your code here"
   ]
  },
  {
   "cell_type": "markdown",
   "metadata": {},
   "source": [
    "Given a list of numbers, write a Python program to calculate the sum and product (multiplication) of all the elements in the list. You can use any list of integers for this task.\n",
    "\n"
   ]
  },
  {
   "cell_type": "code",
   "execution_count": null,
   "metadata": {},
   "outputs": [],
   "source": [
    "#Type your code here"
   ]
  },
  {
   "cell_type": "markdown",
   "metadata": {},
   "source": [
    "Write a Python program that prompts the user to input a starting and an ending number. The program should find and display all prime numbers between the given range (inclusive of the start and end numbers) and store them in a list.\n",
    "\n",
    "Example: If the user enters a = 10 and b = 30, the program should display all prime numbers between 10 and 30."
   ]
  },
  {
   "cell_type": "code",
   "execution_count": null,
   "metadata": {},
   "outputs": [],
   "source": [
    "#Type your code here"
   ]
  },
  {
   "cell_type": "markdown",
   "metadata": {},
   "source": [
    "Write a Python program to create a tuple with several elements (for example, integers or strings). Then, perform the following tasks:\n",
    "\n",
    "1. Access and print the third element of the tuple.\n",
    "2. Print the length of the tuple.\n",
    "3. Check if a specific element (of your choice) exists in the tuple.\n",
    "4. Update the second element of the tuple with a new value.\n"
   ]
  },
  {
   "cell_type": "code",
   "execution_count": null,
   "metadata": {},
   "outputs": [],
   "source": [
    "#Type your code here"
   ]
  },
  {
   "cell_type": "markdown",
   "metadata": {},
   "source": []
  }
 ],
 "metadata": {
  "language_info": {
   "name": "python"
  }
 },
 "nbformat": 4,
 "nbformat_minor": 2
}
