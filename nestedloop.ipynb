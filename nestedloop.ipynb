{
 "cells": [
  {
   "cell_type": "code",
   "execution_count": 6,
   "metadata": {},
   "outputs": [
    {
     "name": "stdout",
     "output_type": "stream",
     "text": [
      "1 Apple\n",
      "2 Apple\n",
      "\n",
      "\n",
      "1 Apple\n",
      "2 Apple\n",
      "\n",
      "\n",
      "1 Apple\n",
      "2 Apple\n",
      "\n",
      "\n",
      "1 Apple\n",
      "2 Apple\n",
      "\n",
      "\n",
      "1 Apple\n",
      "2 Apple\n",
      "\n",
      "\n"
     ]
    }
   ],
   "source": [
    "for i in range(1,6):    #-- 1,2,3,4,5\n",
    "    for j in range(1,3): #1,2\n",
    "        print(j, \"Apple\")\n",
    "    print(\"\\n\")\n",
    "    # print(i)"
   ]
  },
  {
   "cell_type": "markdown",
   "metadata": {},
   "source": [
    "week:1\n",
    "Day:1\n",
    "Day:2\n",
    "Day:3\n",
    "\n",
    "Week:2\n",
    "Day:1\n",
    "Day:2\n",
    "Day:3"
   ]
  },
  {
   "cell_type": "code",
   "execution_count": 7,
   "metadata": {},
   "outputs": [
    {
     "name": "stdout",
     "output_type": "stream",
     "text": [
      "Day:  1\n",
      "Day:  2\n",
      "Day:  3\n"
     ]
    }
   ],
   "source": [
    "for i in range(1,4): #1,2,3\n",
    "    print(\"Day: \", i)"
   ]
  },
  {
   "cell_type": "code",
   "execution_count": 8,
   "metadata": {},
   "outputs": [
    {
     "name": "stdout",
     "output_type": "stream",
     "text": [
      "Week:  1\n",
      "Week:  2\n"
     ]
    }
   ],
   "source": [
    "for j in range(1,3): #1,2\n",
    "    print(\"Week: \", j)"
   ]
  },
  {
   "cell_type": "code",
   "execution_count": 9,
   "metadata": {},
   "outputs": [
    {
     "name": "stdout",
     "output_type": "stream",
     "text": [
      "Week:  1\n",
      "Day:  1\n",
      "Day:  2\n",
      "Day:  3\n",
      "Week:  2\n",
      "Day:  1\n",
      "Day:  2\n",
      "Day:  3\n"
     ]
    }
   ],
   "source": [
    "for j in range(1,3): #1,2\n",
    "    print(\"Week: \", j)\n",
    "    for i in range(1,4): #1,2,3\n",
    "        print(\"Day: \", i)\n"
   ]
  },
  {
   "cell_type": "markdown",
   "metadata": {},
   "source": [
    "1\n",
    "1 2\n",
    "1 2 3\n",
    "1 2 3 4\n",
    "1 2 3 4 5"
   ]
  },
  {
   "cell_type": "code",
   "execution_count": 11,
   "metadata": {},
   "outputs": [
    {
     "name": "stdout",
     "output_type": "stream",
     "text": [
      "1\n",
      "2\n",
      "3\n",
      "4\n",
      "5\n"
     ]
    }
   ],
   "source": [
    "for i in range(1,6):\n",
    "    print(i)"
   ]
  },
  {
   "cell_type": "code",
   "execution_count": 12,
   "metadata": {},
   "outputs": [
    {
     "name": "stdout",
     "output_type": "stream",
     "text": [
      "1 2 3 4 5 "
     ]
    }
   ],
   "source": [
    "for j in range(1, 6):\n",
    "    print(j, end = \" \")"
   ]
  },
  {
   "cell_type": "code",
   "execution_count": 19,
   "metadata": {},
   "outputs": [
    {
     "name": "stdout",
     "output_type": "stream",
     "text": [
      "\n",
      "1 \n",
      "1 2 \n",
      "1 2 3 \n",
      "1 2 3 4 \n",
      "1 2 3 4 5 "
     ]
    }
   ],
   "source": [
    "for i in range(1,6):   #1,2,3,4,5\n",
    "    print()\n",
    "    for j in range(1, i+1):  \n",
    "        print(j, end = \" \")\n",
    "    # print(\"\\n\")"
   ]
  },
  {
   "cell_type": "markdown",
   "metadata": {},
   "source": [
    "# Explanation\n",
    "i = 1  j = range(1, i+1) = (1,1+1) =range(1,2) --> 1\n",
    "\n",
    "i = 2  j = range(1, 2+1) = (1,3)--> 1,2 <-- j\n",
    "\n",
    "i = 3  j = range(1, 3+1) = (1,4) --> 1,2,3 <-- j \n",
    "\n",
    "i = 4  j = range(1, 4+1) = (1,5) --> 1,2,3,4 <--j\n",
    "\n",
    "i = 5  j = range(1,5+1) = (1,6) --> 1,2,3,4,5 <--j"
   ]
  },
  {
   "cell_type": "markdown",
   "metadata": {},
   "source": [
    "1 2 3 4 5\n",
    "1 2 3 4 5\n",
    "1 2 3 4 5\n",
    "1 2 3 4 5\n"
   ]
  },
  {
   "cell_type": "code",
   "execution_count": 28,
   "metadata": {},
   "outputs": [
    {
     "name": "stdout",
     "output_type": "stream",
     "text": [
      "1 1 1 1 1 \n",
      "\n",
      "2 2 2 2 2 \n",
      "\n",
      "3 3 3 3 3 \n",
      "\n",
      "4 4 4 4 4 \n",
      "\n",
      "5 5 5 5 5 \n",
      "\n"
     ]
    }
   ],
   "source": [
    "# for i in range(1, 5):\n",
    "#     print(i)\n",
    "\n",
    "# for j in range(1,6):\n",
    "#     print(j, end = \" \")\n",
    "\n",
    "\n",
    "for i in range(1,6):      #1,2,3,4\n",
    "    for j in range(1,6):  #1,2,3,4,5\n",
    "        print(i, end = \" \")\n",
    "    print(\"\\n\")"
   ]
  },
  {
   "cell_type": "markdown",
   "metadata": {},
   "source": [
    "1 2 3 4 5 6\n",
    "1 2 3 4 5\n",
    "1 2 3 4 \n",
    "1 2 3\n",
    "1 2\n",
    "1"
   ]
  },
  {
   "cell_type": "code",
   "execution_count": 31,
   "metadata": {},
   "outputs": [
    {
     "name": "stdout",
     "output_type": "stream",
     "text": [
      "6\n",
      "5\n",
      "4\n",
      "3\n",
      "2\n",
      "1\n"
     ]
    }
   ],
   "source": [
    "for i in range(6,0, -1):\n",
    "    print(i)"
   ]
  },
  {
   "cell_type": "code",
   "execution_count": 35,
   "metadata": {},
   "outputs": [
    {
     "name": "stdout",
     "output_type": "stream",
     "text": [
      "1 2 3 4 5 6 "
     ]
    }
   ],
   "source": [
    "for j in range(1, 7):\n",
    "    print(j, end = \" \")"
   ]
  },
  {
   "cell_type": "code",
   "execution_count": 2,
   "metadata": {},
   "outputs": [
    {
     "name": "stdout",
     "output_type": "stream",
     "text": [
      "1 2 3 4 \n",
      "\n",
      "1 2 3 \n",
      "\n",
      "1 2 \n",
      "\n",
      "1 \n",
      "\n",
      "\n",
      "\n",
      "\n",
      "\n"
     ]
    }
   ],
   "source": [
    "for i in range(6, 0, -1): #6,5,4,3,2,1\n",
    "    for j in range(1, i-1): \n",
    "        print(j, end = \" \")\n",
    "    print(\"\\n\")"
   ]
  },
  {
   "cell_type": "markdown",
   "metadata": {},
   "source": [
    "# Explanation\n",
    "i = 6  j = range(1,6+1) = range(1,7) --> 1,2,3,4,5,6\n",
    "\n",
    "i = 5 j = range(1,5+1) = range(1,6) --> 1,2,3,4,5\n",
    "\n",
    "i = 4 j = range(1,4+1) = range(1,5) --> 1,2,3,4"
   ]
  },
  {
   "cell_type": "code",
   "execution_count": 24,
   "metadata": {},
   "outputs": [
    {
     "name": "stdout",
     "output_type": "stream",
     "text": [
      "1 2 3 4 5 "
     ]
    }
   ],
   "source": [
    "for j in range(1,6):\n",
    "    print(j, end = \" \")"
   ]
  },
  {
   "cell_type": "markdown",
   "metadata": {},
   "source": [
    "## Task"
   ]
  },
  {
   "cell_type": "markdown",
   "metadata": {},
   "source": [
    "A R I V U M A T H I\n",
    "A R I V U M A T H \n",
    "A R I V U M A T\n",
    "A R I V U M A\n",
    "A R I V U M \n",
    "A R I V U\n",
    "A R I V\n",
    "A R I\n",
    "A R \n",
    "A"
   ]
  },
  {
   "cell_type": "code",
   "execution_count": 62,
   "metadata": {},
   "outputs": [
    {
     "name": "stdout",
     "output_type": "stream",
     "text": [
      "o\n",
      "tho\n",
      "Pytho\n"
     ]
    }
   ],
   "source": [
    "a = \"Python\" \n",
    "\n",
    " #slicing\n",
    "# p -0 , y - 1, t-2, h-3, o-4, n-5\n",
    "# n- -1, o- -2, h- -3, -t -4, y- -5, p- -6 \n",
    "\n",
    "print(a[-2])\n",
    "print(a[-4:-1])\n",
    "print(a[:5])"
   ]
  },
  {
   "cell_type": "code",
   "execution_count": 65,
   "metadata": {},
   "outputs": [
    {
     "name": "stdout",
     "output_type": "stream",
     "text": [
      "Arivumath\n",
      "10\n"
     ]
    }
   ],
   "source": [
    "\n",
    "a = \"Arivumathi\" #Arivumath\n",
    "\n",
    "print(a[:9])\n",
    "\n",
    "print(len(a))"
   ]
  },
  {
   "cell_type": "code",
   "execution_count": 44,
   "metadata": {},
   "outputs": [
    {
     "name": "stdout",
     "output_type": "stream",
     "text": [
      "ARIVUMATHI\n",
      "ARIVUMATH\n",
      "ARIVUMAT\n",
      "ARIVUMA\n",
      "ARIVUM\n",
      "ARIVU\n",
      "ARIV\n",
      "ARI\n",
      "AR\n",
      "A\n"
     ]
    }
   ],
   "source": [
    "a = 'ARIVUMATHI'\n",
    "\n",
    "print(a[0:10])\n",
    "print(a[0:9])\n",
    "print(a[0:8])\n",
    "print(a[0:7])\n",
    "print(a[0:6])\n",
    "print(a[0:5])\n",
    "print(a[0:4])\n",
    "print(a[0:3])\n",
    "print(a[0:2])\n",
    "print(a[0:1])\n",
    "\n",
    "\n",
    "for i in range(10):\n",
    "    for j in range(10):\n",
    "        print(\"*\",end = \" \")"
   ]
  },
  {
   "cell_type": "code",
   "execution_count": 66,
   "metadata": {},
   "outputs": [
    {
     "name": "stdout",
     "output_type": "stream",
     "text": [
      "10\n",
      "9\n",
      "8\n",
      "7\n",
      "6\n",
      "5\n",
      "4\n",
      "3\n",
      "2\n",
      "1\n"
     ]
    }
   ],
   "source": [
    "for i in range(len(a), 0, -1):\n",
    "    print(i)"
   ]
  },
  {
   "cell_type": "code",
   "execution_count": 47,
   "metadata": {},
   "outputs": [
    {
     "name": "stdout",
     "output_type": "stream",
     "text": [
      "A R I V U M A T H I \n",
      "A R I V U M A T H \n",
      "A R I V U M A T \n",
      "A R I V U M A \n",
      "A R I V U M \n",
      "A R I V U \n",
      "A R I V \n",
      "A R I \n",
      "A R \n",
      "A \n"
     ]
    }
   ],
   "source": [
    "for i in range(len(a), 0, -1): #(10, 0, -1) --> 10,9,8,7,6,5,4,3,2,1\n",
    "    for j in range(i):\n",
    "        print(a[j], end = \" \")\n",
    "    print()"
   ]
  },
  {
   "cell_type": "markdown",
   "metadata": {},
   "source": [
    "i = 10 j = range(10)--0,1,2,3,4,5,6,7,8,9 -- a[j]-a[0]-A |a[1]-R |a[2]-I |a[3]-V |a[4]-U |a[5]-M |a[6]-A |a[7]-T |a[8]-H |a[9]-I\n",
    "\n",
    "i = 9  j = range(9)--0,1,2,3,4,5,6,7,8 -- a[j]-a[0]-A |a[1]-R |a[2]-I |a[3]-V |a[4]-U |a[5]-M |a[6]-A |a[7]-T |a[8]-H \n",
    "\n",
    "i = 8  j = range(8)--0,1,2,3,4,5,6,7 -- a[j]-a[0]-A |a[1]-R |a[2]-I |a[3]-V |a[4]-U |a[5]-M |a[6]-A |a[7]-T \n",
    "\n",
    "i = 7  j = range(7)--0,1,2,3,4,5,6 -- a[j]-a[0]-A |a[1]-R |a[2]-I |a[3]-V |a[4]-U |a[5]-M |a[6]-A \n",
    "\n",
    "i = 6  j = range(6)--0,1,2,3,4,5 -- a[j]-a[0]-A |a[1]-R |a[2]-I |a[3]-V |a[4]-U |a[5]-M \n",
    "\n",
    "i = 5  j = range(5)--0,1,2,3,4 -- a[j]-a[0]-A |a[1]-R |a[2]-I |a[3]-V |a[4]-U \n",
    "\n",
    "i = 4  j = range(4)--0,1,2,3 -- a[j]-a[0]-A |a[1]-R |a[2]-I |a[3]-V\n",
    "\n",
    "i = 3  j = range(3)--0,1,2 -- a[j]-a[0]-A |a[1]-R |a[2]-I\n",
    "\n",
    "i = 2  j = range(2)--0,1 -- a[j]-a[0]-A |a[1]-R\n",
    "\n",
    "i = 1  j = range(1)--0 -- a[j]-a[0]-A"
   ]
  },
  {
   "cell_type": "code",
   "execution_count": 70,
   "metadata": {},
   "outputs": [
    {
     "name": "stdout",
     "output_type": "stream",
     "text": [
      "ARIVUMATHI\n",
      "ARIVUMATH\n",
      "ARIVUMAT\n",
      "ARIVUMA\n",
      "ARIVUM\n",
      "ARIVU\n",
      "ARIV\n",
      "ARI\n",
      "AR\n",
      "A\n"
     ]
    }
   ],
   "source": [
    "text = \"ARIVUMATHI\"\n",
    "# words = text.split()\n",
    "\n",
    "# Loop through and reduce the length of the printed text each time\n",
    "for i in range(len(text), 0, -1):\n",
    "    # print(' '.join(text[:i]))\n",
    "    print(text[:i]) "
   ]
  },
  {
   "cell_type": "markdown",
   "metadata": {},
   "source": [
    "i = range(10,0,-1) -- 10,9,8,7,6,5,4,3,2,1 --\n",
    "i = 10 -- print(\" \".join(text[:10])) -text[0:10] - ARIVUMATHI\n",
    "i = 9 -- text[0:9] - ARIVUMATH\n",
    "i = 8 -- text[0:8] - ARIVUMAT\n",
    "i = 7 -- text[0:7] - ARIVUMA\n",
    "i = 6 -- text[0:6] - ARIVUM\n",
    "i = 5 -- text[0:5] - ARIVU\n",
    "i = 4 -- text[0:4] - ARIV\n",
    "i = 3 -- text[0:3] - ARI\n",
    "i = 2 -- text[0:2] - AR\n",
    "i = 1 -- text[0:1] - A"
   ]
  },
  {
   "cell_type": "markdown",
   "metadata": {},
   "source": [
    "## Nested While loop"
   ]
  },
  {
   "cell_type": "markdown",
   "metadata": {},
   "source": [
    "Initialization\n",
    "While Condition:\n",
    "    Initialization\n",
    "    While Condition:\n",
    "        #Starement\n",
    "        increment/decrement\n",
    "    increment/decrement"
   ]
  },
  {
   "cell_type": "code",
   "execution_count": 76,
   "metadata": {},
   "outputs": [
    {
     "name": "stdout",
     "output_type": "stream",
     "text": [
      "1 \n",
      "1 2 \n",
      "1 2 3 \n",
      "1 2 3 4 \n",
      "1 2 3 4 5 \n"
     ]
    }
   ],
   "source": [
    "a = 1  #2 3\n",
    "while a<=5:\n",
    "    b = 1\n",
    "    while b<=a:  #--> 1<=1  1<=2 1<= 3\n",
    "        print(b, end = \" \")\n",
    "        b = b+1\n",
    "    print()\n",
    "    a = a+1"
   ]
  },
  {
   "cell_type": "code",
   "execution_count": 77,
   "metadata": {},
   "outputs": [
    {
     "name": "stdout",
     "output_type": "stream",
     "text": [
      "* * * * * \n",
      "\n",
      "* * * * * \n",
      "\n",
      "* * * * * \n",
      "\n",
      "* * * * * \n",
      "\n",
      "* * * * * \n",
      "\n"
     ]
    }
   ],
   "source": [
    "a = 1\n",
    "while a<=5: #1,2,3,4,5\n",
    "    b = 1\n",
    "    while b<=5: #1,2,3,4,5\n",
    "        print(\"*\", end = \" \")\n",
    "        b = b+1\n",
    "    print(\"\\n\")\n",
    "    a=a+1"
   ]
  },
  {
   "cell_type": "markdown",
   "metadata": {},
   "source": [
    "## Round()"
   ]
  },
  {
   "cell_type": "code",
   "execution_count": 80,
   "metadata": {},
   "outputs": [
    {
     "name": "stdout",
     "output_type": "stream",
     "text": [
      "2345.76\n",
      "345567\n"
     ]
    }
   ],
   "source": [
    "# 45.8975463\n",
    "\n",
    "print(round(2345.75643, 2))\n",
    "print(round(345566.875234))\n"
   ]
  },
  {
   "cell_type": "code",
   "execution_count": 81,
   "metadata": {},
   "outputs": [
    {
     "name": "stdout",
     "output_type": "stream",
     "text": [
      "657\n",
      "7\n",
      "234.658\n",
      "8\n",
      "6\n",
      "245.0\n",
      "3500.0\n",
      "660\n",
      "680\n"
     ]
    }
   ],
   "source": [
    "print(round(657,2))\n",
    "print(round(7,0))\n",
    "print(round(234.6578,3))\n",
    "print(round(7.5))  #.6 -- +1  .4 -- same -->.5 8 or 7\n",
    "print(round(6.5))\n",
    "print(round(245.2311,0))\n",
    "\n",
    "print(round(3474.231123, -2)) #10^(no of digits) 10^2 -100\n",
    "print(round(665,-1))\n",
    "print(round(675,-1))"
   ]
  },
  {
   "cell_type": "code",
   "execution_count": 1,
   "metadata": {},
   "outputs": [
    {
     "name": "stdout",
     "output_type": "stream",
     "text": [
      "not a leap year\n"
     ]
    }
   ],
   "source": [
    "# Year=int(input())\n",
    "# If year%4==0 and year%100!=0\n",
    "#      If year%400==0:\n",
    "\n",
    "year=int(input())\n",
    "if year%4==0 and year%100!=0:\n",
    "    if year%400==0:\n",
    "        print(\"leap year\")\n",
    "    else:\n",
    "        print(\"not a leap year\")\n",
    "else:\n",
    "    print(\"not a leap year\")\n",
    "    "
   ]
  }
 ],
 "metadata": {
  "kernelspec": {
   "display_name": "Python 3",
   "language": "python",
   "name": "python3"
  },
  "language_info": {
   "codemirror_mode": {
    "name": "ipython",
    "version": 3
   },
   "file_extension": ".py",
   "mimetype": "text/x-python",
   "name": "python",
   "nbconvert_exporter": "python",
   "pygments_lexer": "ipython3",
   "version": "3.12.4"
  }
 },
 "nbformat": 4,
 "nbformat_minor": 2
}
